{
  "cells": [
    {
      "cell_type": "markdown",
      "metadata": {
        "id": "_F8QnVusuvRp"
      },
      "source": [
        "# 네이버 영화리뷰 감정 분석 문제에 SentencePiece 적용해 보기"
      ]
    },
    {
      "cell_type": "markdown",
      "metadata": {
        "id": "cf5bj2hYuzDq"
      },
      "source": [
        "- 네이버 영화리뷰 감정 분석 코퍼스에 SentencePiece를 적용시킨 모델 학습하기\n",
        "- 학습된 모델로 sp_tokenize() 메소드 구현하기\n",
        "- 구현된 토크나이저를 적용하여 네이버 영화리뷰 감정 분석 모델을 재학습하기\n",
        "- KoNLPy 형태소 분석기를 사용한 모델과 성능 비교하기\n",
        "- (보너스) SentencePiece 모델의 model_type, vocab_size 등을 변경해 가면서 성능 개선 여부 확인하기"
      ]
    },
    {
      "cell_type": "markdown",
      "metadata": {
        "id": "qVaguYG_u9zu"
      },
      "source": [
        "## 루브릭\n",
        "\n",
        "|평가문항|상세기준|\n",
        "|:--|:--|\n",
        "|1. SentencePiece를 이용하여 모델을 만들기까지의 과정이 정상적으로 진행되었는가?|코퍼스 분석, 전처리, SentencePiece 적용, 토크나이저 구현 및 동작이 빠짐없이 진행되었는가?|\n",
        "|2. SentencePiece를 통해 만든 Tokenizer가 자연어처리 모델과 결합하여 동작하는가?|SentencePiece 토크나이저가 적용된 Text Classifier 모델이 정상적으로 수렴하여 80% 이상의 test accuracy가 확인되었다.|\n",
        "|3. SentencePiece의 성능을 다각도로 비교분석하였는가?|SentencePiece 토크나이저를 활용했을 때의 성능을 다른 토크나이저 혹은 SentencePiece의 다른 옵션의 경우와 비교하여 분석을 체계적으로 진행하였다.|"
      ]
    },
    {
      "cell_type": "code",
      "execution_count": null,
      "metadata": {
        "colab": {
          "base_uri": "https://localhost:8080/"
        },
        "id": "rWNkeB9Nuoba",
        "outputId": "26af1a60-072c-46bc-bb82-6af3b69dd64b"
      },
      "outputs": [
        {
          "name": "stdout",
          "output_type": "stream",
          "text": [
            "--2022-03-27 19:50:48--  https://www.dropbox.com/s/9xls0tgtf3edgns/mecab-0.996-ko-0.9.2.tar.gz?dl=1\n",
            "Resolving www.dropbox.com (www.dropbox.com)... 162.125.65.18, 2620:100:6021:18::a27d:4112\n",
            "Connecting to www.dropbox.com (www.dropbox.com)|162.125.65.18|:443... connected.\n",
            "HTTP request sent, awaiting response... 301 Moved Permanently\n",
            "Location: /s/dl/9xls0tgtf3edgns/mecab-0.996-ko-0.9.2.tar.gz [following]\n",
            "--2022-03-27 19:50:48--  https://www.dropbox.com/s/dl/9xls0tgtf3edgns/mecab-0.996-ko-0.9.2.tar.gz\n",
            "Reusing existing connection to www.dropbox.com:443.\n",
            "HTTP request sent, awaiting response... 302 Found\n",
            "Location: https://uc1fd3ecaeedf3dc67270d469ff0.dl.dropboxusercontent.com/cd/0/get/BiTYv8VN5cc1Ki2aoe2IhoeK1Tb8RbMGeXm1rPcO1oeI-IFl-9Dt9tlzFsjaz9RMfsgSJ1gSP11DXNVbexlXCQKvss5tmvzyDev5DKBED5tgJFhowPkVH4t-LnITFXZ6Bzpcxszv_1UQMKLX78OzOzMPrAUE6usaT_fJCjRmeTK7qKI8ACYuzhha432NVXyTly0/file?dl=1# [following]\n",
            "--2022-03-27 19:50:49--  https://uc1fd3ecaeedf3dc67270d469ff0.dl.dropboxusercontent.com/cd/0/get/BiTYv8VN5cc1Ki2aoe2IhoeK1Tb8RbMGeXm1rPcO1oeI-IFl-9Dt9tlzFsjaz9RMfsgSJ1gSP11DXNVbexlXCQKvss5tmvzyDev5DKBED5tgJFhowPkVH4t-LnITFXZ6Bzpcxszv_1UQMKLX78OzOzMPrAUE6usaT_fJCjRmeTK7qKI8ACYuzhha432NVXyTly0/file?dl=1\n",
            "Resolving uc1fd3ecaeedf3dc67270d469ff0.dl.dropboxusercontent.com (uc1fd3ecaeedf3dc67270d469ff0.dl.dropboxusercontent.com)... 162.125.65.15, 2620:100:6021:15::a27d:410f\n",
            "Connecting to uc1fd3ecaeedf3dc67270d469ff0.dl.dropboxusercontent.com (uc1fd3ecaeedf3dc67270d469ff0.dl.dropboxusercontent.com)|162.125.65.15|:443... connected.\n",
            "HTTP request sent, awaiting response... 200 OK\n",
            "Length: 1414979 (1.3M) [application/binary]\n",
            "Saving to: ‘mecab-0.996-ko-0.9.2.tar.gz?dl=1.1’\n",
            "\n",
            "mecab-0.996-ko-0.9. 100%[===================>]   1.35M  --.-KB/s    in 0.1s    \n",
            "\n",
            "2022-03-27 19:50:49 (11.5 MB/s) - ‘mecab-0.996-ko-0.9.2.tar.gz?dl=1.1’ saved [1414979/1414979]\n",
            "\n",
            "mecab-0.996-ko-0.9.2/\n",
            "mecab-0.996-ko-0.9.2/example/\n",
            "mecab-0.996-ko-0.9.2/example/example.cpp\n",
            "mecab-0.996-ko-0.9.2/example/example_lattice.cpp\n",
            "mecab-0.996-ko-0.9.2/example/example_lattice.c\n",
            "mecab-0.996-ko-0.9.2/example/example.c\n",
            "mecab-0.996-ko-0.9.2/example/thread_test.cpp\n",
            "mecab-0.996-ko-0.9.2/mecab-config.in\n",
            "mecab-0.996-ko-0.9.2/man/\n",
            "mecab-0.996-ko-0.9.2/man/Makefile.am\n",
            "mecab-0.996-ko-0.9.2/man/mecab.1\n",
            "mecab-0.996-ko-0.9.2/man/Makefile.in\n",
            "mecab-0.996-ko-0.9.2/mecab.iss.in\n",
            "mecab-0.996-ko-0.9.2/config.guess\n",
            "mecab-0.996-ko-0.9.2/README\n",
            "mecab-0.996-ko-0.9.2/COPYING\n",
            "mecab-0.996-ko-0.9.2/CHANGES.md\n",
            "mecab-0.996-ko-0.9.2/README.md\n",
            "mecab-0.996-ko-0.9.2/INSTALL\n",
            "mecab-0.996-ko-0.9.2/config.sub\n",
            "mecab-0.996-ko-0.9.2/configure.in\n",
            "mecab-0.996-ko-0.9.2/swig/\n",
            "mecab-0.996-ko-0.9.2/swig/Makefile\n",
            "mecab-0.996-ko-0.9.2/swig/version.h.in\n",
            "mecab-0.996-ko-0.9.2/swig/version.h\n",
            "mecab-0.996-ko-0.9.2/swig/MeCab.i\n",
            "mecab-0.996-ko-0.9.2/aclocal.m4\n",
            "mecab-0.996-ko-0.9.2/LGPL\n",
            "mecab-0.996-ko-0.9.2/Makefile.am\n",
            "mecab-0.996-ko-0.9.2/configure\n",
            "mecab-0.996-ko-0.9.2/tests/\n",
            "mecab-0.996-ko-0.9.2/tests/autolink/\n",
            "mecab-0.996-ko-0.9.2/tests/autolink/unk.def\n",
            "mecab-0.996-ko-0.9.2/tests/autolink/dicrc\n",
            "mecab-0.996-ko-0.9.2/tests/autolink/dic.csv\n",
            "mecab-0.996-ko-0.9.2/tests/autolink/test\n",
            "mecab-0.996-ko-0.9.2/tests/autolink/char.def\n",
            "mecab-0.996-ko-0.9.2/tests/autolink/matrix.def\n",
            "mecab-0.996-ko-0.9.2/tests/autolink/test.gld\n",
            "mecab-0.996-ko-0.9.2/tests/t9/\n",
            "mecab-0.996-ko-0.9.2/tests/t9/unk.def\n",
            "mecab-0.996-ko-0.9.2/tests/t9/ipadic.pl\n",
            "mecab-0.996-ko-0.9.2/tests/t9/dicrc\n",
            "mecab-0.996-ko-0.9.2/tests/t9/dic.csv\n",
            "mecab-0.996-ko-0.9.2/tests/t9/test\n",
            "mecab-0.996-ko-0.9.2/tests/t9/char.def\n",
            "mecab-0.996-ko-0.9.2/tests/t9/matrix.def\n",
            "mecab-0.996-ko-0.9.2/tests/t9/mkdic.pl\n",
            "mecab-0.996-ko-0.9.2/tests/t9/test.gld\n",
            "mecab-0.996-ko-0.9.2/tests/cost-train/\n",
            "mecab-0.996-ko-0.9.2/tests/cost-train/ipa.train\n",
            "mecab-0.996-ko-0.9.2/tests/cost-train/ipa.test\n",
            "mecab-0.996-ko-0.9.2/tests/cost-train/seed/\n",
            "mecab-0.996-ko-0.9.2/tests/cost-train/seed/rewrite.def\n",
            "mecab-0.996-ko-0.9.2/tests/cost-train/seed/feature.def\n",
            "mecab-0.996-ko-0.9.2/tests/cost-train/seed/unk.def\n",
            "mecab-0.996-ko-0.9.2/tests/cost-train/seed/dicrc\n",
            "mecab-0.996-ko-0.9.2/tests/cost-train/seed/dic.csv\n",
            "mecab-0.996-ko-0.9.2/tests/cost-train/seed/char.def\n",
            "mecab-0.996-ko-0.9.2/tests/cost-train/seed/matrix.def\n",
            "mecab-0.996-ko-0.9.2/tests/run-eval.sh\n",
            "mecab-0.996-ko-0.9.2/tests/run-cost-train.sh\n",
            "mecab-0.996-ko-0.9.2/tests/Makefile.am\n",
            "mecab-0.996-ko-0.9.2/tests/katakana/\n",
            "mecab-0.996-ko-0.9.2/tests/katakana/unk.def\n",
            "mecab-0.996-ko-0.9.2/tests/katakana/dicrc\n",
            "mecab-0.996-ko-0.9.2/tests/katakana/dic.csv\n",
            "mecab-0.996-ko-0.9.2/tests/katakana/test\n",
            "mecab-0.996-ko-0.9.2/tests/katakana/char.def\n",
            "mecab-0.996-ko-0.9.2/tests/katakana/matrix.def\n",
            "mecab-0.996-ko-0.9.2/tests/katakana/test.gld\n",
            "mecab-0.996-ko-0.9.2/tests/eval/\n",
            "mecab-0.996-ko-0.9.2/tests/eval/answer\n",
            "mecab-0.996-ko-0.9.2/tests/eval/system\n",
            "mecab-0.996-ko-0.9.2/tests/eval/test.gld\n",
            "mecab-0.996-ko-0.9.2/tests/shiin/\n",
            "mecab-0.996-ko-0.9.2/tests/shiin/unk.def\n",
            "mecab-0.996-ko-0.9.2/tests/shiin/dicrc\n",
            "mecab-0.996-ko-0.9.2/tests/shiin/dic.csv\n",
            "mecab-0.996-ko-0.9.2/tests/shiin/test\n",
            "mecab-0.996-ko-0.9.2/tests/shiin/char.def\n",
            "mecab-0.996-ko-0.9.2/tests/shiin/matrix.def\n",
            "mecab-0.996-ko-0.9.2/tests/shiin/mkdic.pl\n",
            "mecab-0.996-ko-0.9.2/tests/shiin/test.gld\n",
            "mecab-0.996-ko-0.9.2/tests/latin/\n",
            "mecab-0.996-ko-0.9.2/tests/latin/unk.def\n",
            "mecab-0.996-ko-0.9.2/tests/latin/dicrc\n",
            "mecab-0.996-ko-0.9.2/tests/latin/dic.csv\n",
            "mecab-0.996-ko-0.9.2/tests/latin/test\n",
            "mecab-0.996-ko-0.9.2/tests/latin/char.def\n",
            "mecab-0.996-ko-0.9.2/tests/latin/matrix.def\n",
            "mecab-0.996-ko-0.9.2/tests/latin/test.gld\n",
            "mecab-0.996-ko-0.9.2/tests/chartype/\n",
            "mecab-0.996-ko-0.9.2/tests/chartype/unk.def\n",
            "mecab-0.996-ko-0.9.2/tests/chartype/dicrc\n",
            "mecab-0.996-ko-0.9.2/tests/chartype/dic.csv\n",
            "mecab-0.996-ko-0.9.2/tests/chartype/test\n",
            "mecab-0.996-ko-0.9.2/tests/chartype/char.def\n",
            "mecab-0.996-ko-0.9.2/tests/chartype/matrix.def\n",
            "mecab-0.996-ko-0.9.2/tests/chartype/test.gld\n",
            "mecab-0.996-ko-0.9.2/tests/run-dics.sh\n",
            "mecab-0.996-ko-0.9.2/tests/ngram/\n",
            "mecab-0.996-ko-0.9.2/tests/ngram/unk.def\n",
            "mecab-0.996-ko-0.9.2/tests/ngram/dicrc\n",
            "mecab-0.996-ko-0.9.2/tests/ngram/dic.csv\n",
            "mecab-0.996-ko-0.9.2/tests/ngram/test\n",
            "mecab-0.996-ko-0.9.2/tests/ngram/char.def\n",
            "mecab-0.996-ko-0.9.2/tests/ngram/matrix.def\n",
            "mecab-0.996-ko-0.9.2/tests/ngram/test.gld\n",
            "mecab-0.996-ko-0.9.2/tests/Makefile.in\n",
            "mecab-0.996-ko-0.9.2/ltmain.sh\n",
            "mecab-0.996-ko-0.9.2/config.rpath\n",
            "mecab-0.996-ko-0.9.2/config.h.in\n",
            "mecab-0.996-ko-0.9.2/mecabrc.in\n",
            "mecab-0.996-ko-0.9.2/GPL\n",
            "mecab-0.996-ko-0.9.2/Makefile.train\n",
            "mecab-0.996-ko-0.9.2/ChangeLog\n",
            "mecab-0.996-ko-0.9.2/install-sh\n",
            "mecab-0.996-ko-0.9.2/AUTHORS\n",
            "mecab-0.996-ko-0.9.2/doc/\n",
            "mecab-0.996-ko-0.9.2/doc/bindings.html\n",
            "mecab-0.996-ko-0.9.2/doc/posid.html\n",
            "mecab-0.996-ko-0.9.2/doc/unk.html\n",
            "mecab-0.996-ko-0.9.2/doc/learn.html\n",
            "mecab-0.996-ko-0.9.2/doc/format.html\n",
            "mecab-0.996-ko-0.9.2/doc/libmecab.html\n",
            "mecab-0.996-ko-0.9.2/doc/mecab.css\n",
            "mecab-0.996-ko-0.9.2/doc/feature.html\n",
            "mecab-0.996-ko-0.9.2/doc/Makefile.am\n",
            "mecab-0.996-ko-0.9.2/doc/soft.html\n",
            "mecab-0.996-ko-0.9.2/doc/en/\n",
            "mecab-0.996-ko-0.9.2/doc/en/bindings.html\n",
            "mecab-0.996-ko-0.9.2/doc/dic-detail.html\n",
            "mecab-0.996-ko-0.9.2/doc/flow.png\n",
            "mecab-0.996-ko-0.9.2/doc/mecab.html\n",
            "mecab-0.996-ko-0.9.2/doc/index.html\n",
            "mecab-0.996-ko-0.9.2/doc/result.png\n",
            "mecab-0.996-ko-0.9.2/doc/doxygen/\n",
            "mecab-0.996-ko-0.9.2/doc/doxygen/tab_a.png\n",
            "mecab-0.996-ko-0.9.2/doc/doxygen/globals_eval.html\n",
            "mecab-0.996-ko-0.9.2/doc/doxygen/classMeCab_1_1Tagger-members.html\n",
            "mecab-0.996-ko-0.9.2/doc/doxygen/functions_vars.html\n",
            "mecab-0.996-ko-0.9.2/doc/doxygen/doxygen.css\n",
            "mecab-0.996-ko-0.9.2/doc/doxygen/tab_r.gif\n",
            "mecab-0.996-ko-0.9.2/doc/doxygen/classMeCab_1_1Lattice.html\n",
            "mecab-0.996-ko-0.9.2/doc/doxygen/functions.html\n",
            "mecab-0.996-ko-0.9.2/doc/doxygen/classMeCab_1_1Tagger.html\n",
            "mecab-0.996-ko-0.9.2/doc/doxygen/mecab_8h_source.html\n",
            "mecab-0.996-ko-0.9.2/doc/doxygen/tabs.css\n",
            "mecab-0.996-ko-0.9.2/doc/doxygen/nav_f.png\n",
            "mecab-0.996-ko-0.9.2/doc/doxygen/tab_b.png\n",
            "mecab-0.996-ko-0.9.2/doc/doxygen/globals.html\n",
            "mecab-0.996-ko-0.9.2/doc/doxygen/nav_h.png\n",
            "mecab-0.996-ko-0.9.2/doc/doxygen/tab_h.png\n",
            "mecab-0.996-ko-0.9.2/doc/doxygen/classMeCab_1_1Model.html\n",
            "mecab-0.996-ko-0.9.2/doc/doxygen/globals_func.html\n",
            "mecab-0.996-ko-0.9.2/doc/doxygen/closed.png\n",
            "mecab-0.996-ko-0.9.2/doc/doxygen/tab_l.gif\n",
            "mecab-0.996-ko-0.9.2/doc/doxygen/structmecab__path__t-members.html\n",
            "mecab-0.996-ko-0.9.2/doc/doxygen/functions_func.html\n",
            "mecab-0.996-ko-0.9.2/doc/doxygen/globals_type.html\n",
            "mecab-0.996-ko-0.9.2/doc/doxygen/classMeCab_1_1Lattice-members.html\n",
            "mecab-0.996-ko-0.9.2/doc/doxygen/structmecab__node__t.html\n",
            "mecab-0.996-ko-0.9.2/doc/doxygen/namespacemembers_func.html\n",
            "mecab-0.996-ko-0.9.2/doc/doxygen/tab_s.png\n",
            "mecab-0.996-ko-0.9.2/doc/doxygen/structmecab__dictionary__info__t-members.html\n",
            "mecab-0.996-ko-0.9.2/doc/doxygen/namespacemembers_type.html\n",
            "mecab-0.996-ko-0.9.2/doc/doxygen/classMeCab_1_1Model-members.html\n",
            "mecab-0.996-ko-0.9.2/doc/doxygen/structmecab__dictionary__info__t.html\n",
            "mecab-0.996-ko-0.9.2/doc/doxygen/namespaces.html\n",
            "mecab-0.996-ko-0.9.2/doc/doxygen/namespacemembers.html\n",
            "mecab-0.996-ko-0.9.2/doc/doxygen/namespaceMeCab.html\n",
            "mecab-0.996-ko-0.9.2/doc/doxygen/structmecab__path__t.html\n",
            "mecab-0.996-ko-0.9.2/doc/doxygen/files.html\n",
            "mecab-0.996-ko-0.9.2/doc/doxygen/structmecab__node__t-members.html\n",
            "mecab-0.996-ko-0.9.2/doc/doxygen/index.html\n",
            "mecab-0.996-ko-0.9.2/doc/doxygen/annotated.html\n",
            "mecab-0.996-ko-0.9.2/doc/doxygen/globals_defs.html\n",
            "mecab-0.996-ko-0.9.2/doc/doxygen/classes.html\n",
            "mecab-0.996-ko-0.9.2/doc/doxygen/mecab_8h-source.html\n",
            "mecab-0.996-ko-0.9.2/doc/doxygen/doxygen.png\n",
            "mecab-0.996-ko-0.9.2/doc/doxygen/tab_b.gif\n",
            "mecab-0.996-ko-0.9.2/doc/doxygen/bc_s.png\n",
            "mecab-0.996-ko-0.9.2/doc/doxygen/open.png\n",
            "mecab-0.996-ko-0.9.2/doc/doxygen/mecab_8h.html\n",
            "mecab-0.996-ko-0.9.2/doc/dic.html\n",
            "mecab-0.996-ko-0.9.2/doc/partial.html\n",
            "mecab-0.996-ko-0.9.2/doc/feature.png\n",
            "mecab-0.996-ko-0.9.2/doc/Makefile.in\n",
            "mecab-0.996-ko-0.9.2/missing\n",
            "mecab-0.996-ko-0.9.2/BSD\n",
            "mecab-0.996-ko-0.9.2/NEWS\n",
            "mecab-0.996-ko-0.9.2/mkinstalldirs\n",
            "mecab-0.996-ko-0.9.2/src/\n",
            "mecab-0.996-ko-0.9.2/src/dictionary.h\n",
            "mecab-0.996-ko-0.9.2/src/writer.h\n",
            "mecab-0.996-ko-0.9.2/src/utils.h\n",
            "mecab-0.996-ko-0.9.2/src/string_buffer.cpp\n",
            "mecab-0.996-ko-0.9.2/src/tokenizer.cpp\n",
            "mecab-0.996-ko-0.9.2/src/make.bat\n",
            "mecab-0.996-ko-0.9.2/src/mecab.h\n",
            "mecab-0.996-ko-0.9.2/src/freelist.h\n",
            "mecab-0.996-ko-0.9.2/src/string_buffer.h\n",
            "mecab-0.996-ko-0.9.2/src/learner_tagger.h\n",
            "mecab-0.996-ko-0.9.2/src/dictionary_compiler.cpp\n",
            "mecab-0.996-ko-0.9.2/src/eval.cpp\n",
            "mecab-0.996-ko-0.9.2/src/mecab-system-eval.cpp\n",
            "mecab-0.996-ko-0.9.2/src/darts.h\n",
            "mecab-0.996-ko-0.9.2/src/param.h\n",
            "mecab-0.996-ko-0.9.2/src/char_property.h\n",
            "mecab-0.996-ko-0.9.2/src/learner_node.h\n",
            "mecab-0.996-ko-0.9.2/src/mecab-dict-gen.cpp\n",
            "mecab-0.996-ko-0.9.2/src/mecab-dict-index.cpp\n",
            "mecab-0.996-ko-0.9.2/src/winmain.h\n",
            "mecab-0.996-ko-0.9.2/src/thread.h\n",
            "mecab-0.996-ko-0.9.2/src/context_id.cpp\n",
            "mecab-0.996-ko-0.9.2/src/Makefile.am\n",
            "mecab-0.996-ko-0.9.2/src/connector.h\n",
            "mecab-0.996-ko-0.9.2/src/common.h\n",
            "mecab-0.996-ko-0.9.2/src/dictionary_rewriter.cpp\n",
            "mecab-0.996-ko-0.9.2/src/Makefile.msvc.in\n",
            "mecab-0.996-ko-0.9.2/src/dictionary_rewriter.h\n",
            "mecab-0.996-ko-0.9.2/src/feature_index.h\n",
            "mecab-0.996-ko-0.9.2/src/iconv_utils.cpp\n",
            "mecab-0.996-ko-0.9.2/src/char_property.cpp\n",
            "mecab-0.996-ko-0.9.2/src/mecab-test-gen.cpp\n",
            "mecab-0.996-ko-0.9.2/src/tagger.cpp\n",
            "mecab-0.996-ko-0.9.2/src/mecab-cost-train.cpp\n",
            "mecab-0.996-ko-0.9.2/src/learner.cpp\n",
            "mecab-0.996-ko-0.9.2/src/dictionary.cpp\n",
            "mecab-0.996-ko-0.9.2/src/lbfgs.cpp\n",
            "mecab-0.996-ko-0.9.2/src/ucs.h\n",
            "mecab-0.996-ko-0.9.2/src/writer.cpp\n",
            "mecab-0.996-ko-0.9.2/src/learner_tagger.cpp\n",
            "mecab-0.996-ko-0.9.2/src/lbfgs.h\n",
            "mecab-0.996-ko-0.9.2/src/libmecab.cpp\n",
            "mecab-0.996-ko-0.9.2/src/tokenizer.h\n",
            "mecab-0.996-ko-0.9.2/src/mecab.cpp\n",
            "mecab-0.996-ko-0.9.2/src/utils.cpp\n",
            "mecab-0.996-ko-0.9.2/src/dictionary_generator.cpp\n",
            "mecab-0.996-ko-0.9.2/src/param.cpp\n",
            "mecab-0.996-ko-0.9.2/src/context_id.h\n",
            "mecab-0.996-ko-0.9.2/src/mmap.h\n",
            "mecab-0.996-ko-0.9.2/src/viterbi.h\n",
            "mecab-0.996-ko-0.9.2/src/viterbi.cpp\n",
            "mecab-0.996-ko-0.9.2/src/stream_wrapper.h\n",
            "mecab-0.996-ko-0.9.2/src/feature_index.cpp\n",
            "mecab-0.996-ko-0.9.2/src/nbest_generator.h\n",
            "mecab-0.996-ko-0.9.2/src/ucstable.h\n",
            "mecab-0.996-ko-0.9.2/src/nbest_generator.cpp\n",
            "mecab-0.996-ko-0.9.2/src/iconv_utils.h\n",
            "mecab-0.996-ko-0.9.2/src/connector.cpp\n",
            "mecab-0.996-ko-0.9.2/src/Makefile.in\n",
            "mecab-0.996-ko-0.9.2/src/scoped_ptr.h\n",
            "mecab-0.996-ko-0.9.2/Makefile.in\n",
            "checking for a BSD-compatible install... /usr/bin/install -c\n",
            "checking whether build environment is sane... yes\n",
            "checking for a thread-safe mkdir -p... /bin/mkdir -p\n",
            "checking for gawk... no\n",
            "checking for mawk... mawk\n",
            "checking whether make sets $(MAKE)... yes\n",
            "checking for gcc... gcc\n",
            "checking whether the C compiler works... yes\n",
            "checking for C compiler default output file name... a.out\n",
            "checking for suffix of executables... \n",
            "checking whether we are cross compiling... no\n",
            "checking for suffix of object files... o\n",
            "checking whether we are using the GNU C compiler... yes\n",
            "checking whether gcc accepts -g... yes\n",
            "checking for gcc option to accept ISO C89... none needed\n",
            "checking for style of include used by make... GNU\n",
            "checking dependency style of gcc... none\n",
            "checking for g++... g++\n",
            "checking whether we are using the GNU C++ compiler... yes\n",
            "checking whether g++ accepts -g... yes\n",
            "checking dependency style of g++... none\n",
            "checking how to run the C preprocessor... gcc -E\n",
            "checking for grep that handles long lines and -e... /bin/grep\n",
            "checking for egrep... /bin/grep -E\n",
            "checking whether gcc needs -traditional... no\n",
            "checking whether make sets $(MAKE)... (cached) yes\n",
            "checking build system type... x86_64-unknown-linux-gnu\n",
            "checking host system type... x86_64-unknown-linux-gnu\n",
            "checking how to print strings... printf\n",
            "checking for a sed that does not truncate output... /bin/sed\n",
            "checking for fgrep... /bin/grep -F\n",
            "checking for ld used by gcc... /usr/bin/ld\n",
            "checking if the linker (/usr/bin/ld) is GNU ld... yes\n",
            "checking for BSD- or MS-compatible name lister (nm)... /usr/bin/nm -B\n",
            "checking the name lister (/usr/bin/nm -B) interface... BSD nm\n",
            "checking whether ln -s works... yes\n",
            "checking the maximum length of command line arguments... 1572864\n",
            "checking whether the shell understands some XSI constructs... yes\n",
            "checking whether the shell understands \"+=\"... yes\n",
            "checking how to convert x86_64-unknown-linux-gnu file names to x86_64-unknown-linux-gnu format... func_convert_file_noop\n",
            "checking how to convert x86_64-unknown-linux-gnu file names to toolchain format... func_convert_file_noop\n",
            "checking for /usr/bin/ld option to reload object files... -r\n",
            "checking for objdump... objdump\n",
            "checking how to recognize dependent libraries... pass_all\n",
            "checking for dlltool... dlltool\n",
            "checking how to associate runtime and link libraries... printf %s\\n\n",
            "checking for ar... ar\n",
            "checking for archiver @FILE support... @\n",
            "checking for strip... strip\n",
            "checking for ranlib... ranlib\n",
            "checking command to parse /usr/bin/nm -B output from gcc object... ok\n",
            "checking for sysroot... no\n",
            "./configure: line 7378: /usr/bin/file: No such file or directory\n",
            "checking for mt... no\n",
            "checking if : is a manifest tool... no\n",
            "checking for ANSI C header files... yes\n",
            "checking for sys/types.h... yes\n",
            "checking for sys/stat.h... yes\n",
            "checking for stdlib.h... yes\n",
            "checking for string.h... yes\n",
            "checking for memory.h... yes\n",
            "checking for strings.h... yes\n",
            "checking for inttypes.h... yes\n",
            "checking for stdint.h... yes\n",
            "checking for unistd.h... yes\n",
            "checking for dlfcn.h... yes\n",
            "checking for objdir... .libs\n",
            "checking if gcc supports -fno-rtti -fno-exceptions... no\n",
            "checking for gcc option to produce PIC... -fPIC -DPIC\n",
            "checking if gcc PIC flag -fPIC -DPIC works... yes\n",
            "checking if gcc static flag -static works... yes\n",
            "checking if gcc supports -c -o file.o... yes\n",
            "checking if gcc supports -c -o file.o... (cached) yes\n",
            "checking whether the gcc linker (/usr/bin/ld) supports shared libraries... yes\n",
            "checking whether -lc should be explicitly linked in... no\n",
            "checking dynamic linker characteristics... GNU/Linux ld.so\n",
            "checking how to hardcode library paths into programs... immediate\n",
            "checking whether stripping libraries is possible... yes\n",
            "checking if libtool supports shared libraries... yes\n",
            "checking whether to build shared libraries... yes\n",
            "checking whether to build static libraries... yes\n",
            "checking how to run the C++ preprocessor... g++ -E\n",
            "checking for ld used by g++... /usr/bin/ld\n",
            "checking if the linker (/usr/bin/ld) is GNU ld... yes\n",
            "checking whether the g++ linker (/usr/bin/ld) supports shared libraries... yes\n",
            "checking for g++ option to produce PIC... -fPIC -DPIC\n",
            "checking if g++ PIC flag -fPIC -DPIC works... yes\n",
            "checking if g++ static flag -static works... yes\n",
            "checking if g++ supports -c -o file.o... yes\n",
            "checking if g++ supports -c -o file.o... (cached) yes\n",
            "checking whether the g++ linker (/usr/bin/ld) supports shared libraries... yes\n",
            "checking dynamic linker characteristics... (cached) GNU/Linux ld.so\n",
            "checking how to hardcode library paths into programs... immediate\n",
            "checking for library containing strerror... none required\n",
            "checking whether byte ordering is bigendian... no\n",
            "checking for ld used by GCC... /usr/bin/ld\n",
            "checking if the linker (/usr/bin/ld) is GNU ld... yes\n",
            "checking for shared library run path origin... done\n",
            "checking for iconv... yes\n",
            "checking for working iconv... yes\n",
            "checking for iconv declaration... \n",
            "         extern size_t iconv (iconv_t cd, char * *inbuf, size_t *inbytesleft, char * *outbuf, size_t *outbytesleft);\n",
            "checking for ANSI C header files... (cached) yes\n",
            "checking for an ANSI C-conforming const... yes\n",
            "checking whether byte ordering is bigendian... (cached) no\n",
            "checking for string.h... (cached) yes\n",
            "checking for stdlib.h... (cached) yes\n",
            "checking for unistd.h... (cached) yes\n",
            "checking fcntl.h usability... yes\n",
            "checking fcntl.h presence... yes\n",
            "checking for fcntl.h... yes\n",
            "checking for stdint.h... (cached) yes\n",
            "checking for sys/stat.h... (cached) yes\n",
            "checking sys/mman.h usability... yes\n",
            "checking sys/mman.h presence... yes\n",
            "checking for sys/mman.h... yes\n",
            "checking sys/times.h usability... yes\n",
            "checking sys/times.h presence... yes\n",
            "checking for sys/times.h... yes\n",
            "checking for sys/types.h... (cached) yes\n",
            "checking dirent.h usability... yes\n",
            "checking dirent.h presence... yes\n",
            "checking for dirent.h... yes\n",
            "checking ctype.h usability... yes\n",
            "checking ctype.h presence... yes\n",
            "checking for ctype.h... yes\n",
            "checking for sys/types.h... (cached) yes\n",
            "checking io.h usability... no\n",
            "checking io.h presence... no\n",
            "checking for io.h... no\n",
            "checking windows.h usability... no\n",
            "checking windows.h presence... no\n",
            "checking for windows.h... no\n",
            "checking pthread.h usability... yes\n",
            "checking pthread.h presence... yes\n",
            "checking for pthread.h... yes\n",
            "checking for off_t... yes\n",
            "checking for size_t... yes\n",
            "checking size of char... 1\n",
            "checking size of short... 2\n",
            "checking size of int... 4\n",
            "checking size of long... 8\n",
            "checking size of long long... 8\n",
            "checking size of size_t... 8\n",
            "checking for size_t... (cached) yes\n",
            "checking for unsigned long long int... yes\n",
            "checking for stdlib.h... (cached) yes\n",
            "checking for unistd.h... (cached) yes\n",
            "checking for sys/param.h... yes\n",
            "checking for getpagesize... yes\n",
            "checking for working mmap... yes\n",
            "checking for main in -lstdc++... yes\n",
            "checking for pthread_create in -lpthread... yes\n",
            "checking for pthread_join in -lpthread... yes\n",
            "checking for getenv... yes\n",
            "checking for opendir... yes\n",
            "checking whether make is GNU Make... yes\n",
            "checking if g++ supports stl <vector> (required)... yes\n",
            "checking if g++ supports stl <list> (required)... yes\n",
            "checking if g++ supports stl <map> (required)... yes\n",
            "checking if g++ supports stl <set> (required)... yes\n",
            "checking if g++ supports stl <queue> (required)... yes\n",
            "checking if g++ supports stl <functional> (required)... yes\n",
            "checking if g++ supports stl <algorithm> (required)... yes\n",
            "checking if g++ supports stl <string> (required)... yes\n",
            "checking if g++ supports stl <iostream> (required)... yes\n",
            "checking if g++ supports stl <sstream> (required)... yes\n",
            "checking if g++ supports stl <fstream> (required)... yes\n",
            "checking if g++ supports template <class T> (required)... yes\n",
            "checking if g++ supports const_cast<> (required)... yes\n",
            "checking if g++ supports static_cast<> (required)... yes\n",
            "checking if g++ supports reinterpret_cast<> (required)... yes\n",
            "checking if g++ supports namespaces (required) ... yes\n",
            "checking if g++ supports __thread (optional)... yes\n",
            "checking if g++ supports template <class T> (required)... yes\n",
            "checking if g++ supports GCC native atomic operations (optional)... yes\n",
            "checking if g++ supports OSX native atomic operations (optional)... no\n",
            "checking if g++ environment provides all required features... yes\n",
            "configure: creating ./config.status\n",
            "config.status: creating Makefile\n",
            "config.status: creating src/Makefile\n",
            "config.status: creating src/Makefile.msvc\n",
            "config.status: creating man/Makefile\n",
            "config.status: creating doc/Makefile\n",
            "config.status: creating tests/Makefile\n",
            "config.status: creating swig/version.h\n",
            "config.status: creating mecab.iss\n",
            "config.status: creating mecab-config\n",
            "config.status: creating mecabrc\n",
            "config.status: creating config.h\n",
            "config.status: config.h is unchanged\n",
            "config.status: executing depfiles commands\n",
            "config.status: executing libtool commands\n",
            "config.status: executing default commands\n",
            "make  all-recursive\n",
            "make[1]: Entering directory '/tmp/mecab-0.996-ko-0.9.2'\n",
            "Making all in src\n",
            "make[2]: Entering directory '/tmp/mecab-0.996-ko-0.9.2/src'\n",
            "make[2]: Nothing to be done for 'all'.\n",
            "make[2]: Leaving directory '/tmp/mecab-0.996-ko-0.9.2/src'\n",
            "Making all in man\n",
            "make[2]: Entering directory '/tmp/mecab-0.996-ko-0.9.2/man'\n",
            "make[2]: Nothing to be done for 'all'.\n",
            "make[2]: Leaving directory '/tmp/mecab-0.996-ko-0.9.2/man'\n",
            "Making all in doc\n",
            "make[2]: Entering directory '/tmp/mecab-0.996-ko-0.9.2/doc'\n",
            "make[2]: Nothing to be done for 'all'.\n",
            "make[2]: Leaving directory '/tmp/mecab-0.996-ko-0.9.2/doc'\n",
            "Making all in tests\n",
            "make[2]: Entering directory '/tmp/mecab-0.996-ko-0.9.2/tests'\n",
            "make[2]: Nothing to be done for 'all'.\n",
            "make[2]: Leaving directory '/tmp/mecab-0.996-ko-0.9.2/tests'\n",
            "make[2]: Entering directory '/tmp/mecab-0.996-ko-0.9.2'\n",
            "make[2]: Leaving directory '/tmp/mecab-0.996-ko-0.9.2'\n",
            "make[1]: Leaving directory '/tmp/mecab-0.996-ko-0.9.2'\n",
            "Making check in src\n",
            "make[1]: Entering directory '/tmp/mecab-0.996-ko-0.9.2/src'\n",
            "make[1]: Nothing to be done for 'check'.\n",
            "make[1]: Leaving directory '/tmp/mecab-0.996-ko-0.9.2/src'\n",
            "Making check in man\n",
            "make[1]: Entering directory '/tmp/mecab-0.996-ko-0.9.2/man'\n",
            "make[1]: Nothing to be done for 'check'.\n",
            "make[1]: Leaving directory '/tmp/mecab-0.996-ko-0.9.2/man'\n",
            "Making check in doc\n",
            "make[1]: Entering directory '/tmp/mecab-0.996-ko-0.9.2/doc'\n",
            "make[1]: Nothing to be done for 'check'.\n",
            "make[1]: Leaving directory '/tmp/mecab-0.996-ko-0.9.2/doc'\n",
            "Making check in tests\n",
            "make[1]: Entering directory '/tmp/mecab-0.996-ko-0.9.2/tests'\n",
            "make  check-TESTS\n",
            "make[2]: Entering directory '/tmp/mecab-0.996-ko-0.9.2/tests'\n",
            "./pos-id.def is not found. minimum setting is used\n",
            "reading ./unk.def ... 2\n",
            "emitting double-array: 100% |###########################################| \n",
            "./model.def is not found. skipped.\n",
            "./pos-id.def is not found. minimum setting is used\n",
            "reading ./dic.csv ... 177\n",
            "emitting double-array: 100% |###########################################| \n",
            "reading ./matrix.def ... 178x178\n",
            "emitting matrix      : 100% |###########################################| \n",
            "\n",
            "done!\n",
            "./pos-id.def is not found. minimum setting is used\n",
            "reading ./unk.def ... 2\n",
            "emitting double-array: 100% |###########################################| \n",
            "./model.def is not found. skipped.\n",
            "./pos-id.def is not found. minimum setting is used\n",
            "reading ./dic.csv ... 83\n",
            "emitting double-array: 100% |###########################################| \n",
            "reading ./matrix.def ... 84x84\n",
            "emitting matrix      : 100% |###########################################| \n",
            "\n",
            "done!\n",
            "./pos-id.def is not found. minimum setting is used\n",
            "reading ./unk.def ... 2\n",
            "emitting double-array: 100% |###########################################| \n",
            "./model.def is not found. skipped.\n",
            "./pos-id.def is not found. minimum setting is used\n",
            "reading ./dic.csv ... 450\n",
            "emitting double-array: 100% |###########################################| \n",
            "reading ./matrix.def ... 1x1\n",
            "\n",
            "done!\n",
            "./pos-id.def is not found. minimum setting is used\n",
            "reading ./unk.def ... 2\n",
            "emitting double-array: 100% |###########################################| \n",
            "./model.def is not found. skipped.\n",
            "./pos-id.def is not found. minimum setting is used\n",
            "reading ./dic.csv ... 162\n",
            "emitting double-array: 100% |###########################################| \n",
            "reading ./matrix.def ... 3x3\n",
            "emitting matrix      : 100% |###########################################| \n",
            "\n",
            "done!\n",
            "./pos-id.def is not found. minimum setting is used\n",
            "reading ./unk.def ... 2\n",
            "emitting double-array: 100% |###########################################| \n",
            "./model.def is not found. skipped.\n",
            "./pos-id.def is not found. minimum setting is used\n",
            "reading ./dic.csv ... 4\n",
            "emitting double-array: 100% |###########################################| \n",
            "reading ./matrix.def ... 1x1\n",
            "\n",
            "done!\n",
            "./pos-id.def is not found. minimum setting is used\n",
            "reading ./unk.def ... 11\n",
            "emitting double-array: 100% |###########################################| \n",
            "./model.def is not found. skipped.\n",
            "./pos-id.def is not found. minimum setting is used\n",
            "reading ./dic.csv ... 1\n",
            "reading ./matrix.def ... 1x1\n",
            "\n",
            "done!\n",
            "./pos-id.def is not found. minimum setting is used\n",
            "reading ./unk.def ... 2\n",
            "emitting double-array: 100% |###########################################| \n",
            "./model.def is not found. skipped.\n",
            "./pos-id.def is not found. minimum setting is used\n",
            "reading ./dic.csv ... 1\n",
            "reading ./matrix.def ... 1x1\n",
            "\n",
            "done!\n",
            "PASS: run-dics.sh\n",
            "PASS: run-eval.sh\n",
            "seed/pos-id.def is not found. minimum setting is used\n",
            "reading seed/unk.def ... 40\n",
            "emitting double-array: 100% |###########################################| \n",
            "seed/model.def is not found. skipped.\n",
            "seed/pos-id.def is not found. minimum setting is used\n",
            "reading seed/dic.csv ... 4335\n",
            "emitting double-array: 100% |###########################################| \n",
            "reading seed/matrix.def ... 1x1\n",
            "\n",
            "done!\n",
            "reading corpus ...\n",
            "Number of sentences: 34\n",
            "Number of features:  64108\n",
            "eta:                 0.00005\n",
            "freq:                1\n",
            "eval-size:           6\n",
            "unk-eval-size:       4\n",
            "threads:             1\n",
            "charset:             EUC-JP\n",
            "C(sigma^2):          1.00000\n",
            "\n",
            "iter=0 err=1.00000 F=0.35771 target=2406.28355 diff=1.00000\n",
            "iter=1 err=0.97059 F=0.65652 target=1484.25231 diff=0.38318\n",
            "iter=2 err=0.91176 F=0.79331 target=863.32765 diff=0.41834\n",
            "iter=3 err=0.85294 F=0.89213 target=596.72480 diff=0.30881\n",
            "iter=4 err=0.61765 F=0.95467 target=336.30744 diff=0.43641\n",
            "iter=5 err=0.50000 F=0.96702 target=246.53039 diff=0.26695\n",
            "iter=6 err=0.35294 F=0.95472 target=188.93963 diff=0.23361\n",
            "iter=7 err=0.20588 F=0.99106 target=168.62665 diff=0.10751\n",
            "iter=8 err=0.05882 F=0.99777 target=158.64865 diff=0.05917\n",
            "iter=9 err=0.08824 F=0.99665 target=154.14530 diff=0.02839\n",
            "iter=10 err=0.08824 F=0.99665 target=151.94257 diff=0.01429\n",
            "iter=11 err=0.02941 F=0.99888 target=147.20825 diff=0.03116\n",
            "iter=12 err=0.00000 F=1.00000 target=147.34956 diff=0.00096\n",
            "iter=13 err=0.02941 F=0.99888 target=146.32592 diff=0.00695\n",
            "iter=14 err=0.00000 F=1.00000 target=145.77299 diff=0.00378\n",
            "iter=15 err=0.02941 F=0.99888 target=145.24641 diff=0.00361\n",
            "iter=16 err=0.00000 F=1.00000 target=144.96490 diff=0.00194\n",
            "iter=17 err=0.02941 F=0.99888 target=144.90246 diff=0.00043\n",
            "iter=18 err=0.00000 F=1.00000 target=144.75959 diff=0.00099\n",
            "iter=19 err=0.00000 F=1.00000 target=144.71727 diff=0.00029\n",
            "iter=20 err=0.00000 F=1.00000 target=144.66337 diff=0.00037\n",
            "iter=21 err=0.00000 F=1.00000 target=144.61349 diff=0.00034\n",
            "iter=22 err=0.00000 F=1.00000 target=144.62987 diff=0.00011\n",
            "iter=23 err=0.00000 F=1.00000 target=144.60060 diff=0.00020\n",
            "iter=24 err=0.00000 F=1.00000 target=144.59125 diff=0.00006\n",
            "iter=25 err=0.00000 F=1.00000 target=144.58619 diff=0.00004\n",
            "iter=26 err=0.00000 F=1.00000 target=144.58219 diff=0.00003\n",
            "iter=27 err=0.00000 F=1.00000 target=144.58059 diff=0.00001\n",
            "\n",
            "Done! writing model file ... \n",
            "model-ipadic.c1.0.f1.model is not a binary model. reopen it as text mode...\n",
            "reading seed/unk.def ... 40\n",
            "reading seed/dic.csv ... 4335\n",
            "emitting model-ipadic.c1.0.f1.dic/left-id.def/ model-ipadic.c1.0.f1.dic/right-id.def\n",
            "emitting model-ipadic.c1.0.f1.dic/unk.def ... 40\n",
            "emitting model-ipadic.c1.0.f1.dic/dic.csv ... 4335\n",
            "emitting matrix      : 100% |###########################################| \n",
            "copying seed/char.def to model-ipadic.c1.0.f1.dic/char.def\n",
            "copying seed/rewrite.def to model-ipadic.c1.0.f1.dic/rewrite.def\n",
            "copying seed/dicrc to model-ipadic.c1.0.f1.dic/dicrc\n",
            "copying seed/feature.def to model-ipadic.c1.0.f1.dic/feature.def\n",
            "copying model-ipadic.c1.0.f1.model to model-ipadic.c1.0.f1.dic/model.def\n",
            "\n",
            "done!\n",
            "model-ipadic.c1.0.f1.dic/pos-id.def is not found. minimum setting is used\n",
            "reading model-ipadic.c1.0.f1.dic/unk.def ... 40\n",
            "emitting double-array: 100% |###########################################| \n",
            "model-ipadic.c1.0.f1.dic/pos-id.def is not found. minimum setting is used\n",
            "reading model-ipadic.c1.0.f1.dic/dic.csv ... 4335\n",
            "emitting double-array: 100% |###########################################| \n",
            "reading model-ipadic.c1.0.f1.dic/matrix.def ... 346x346\n",
            "emitting matrix      : 100% |###########################################| \n",
            "\n",
            "done!\n",
            "              precision          recall         F\n",
            "LEVEL 0:    12.8959(57/442) 11.8998(57/479) 12.3779\n",
            "LEVEL 1:    12.2172(54/442) 11.2735(54/479) 11.7264\n",
            "LEVEL 2:    11.7647(52/442) 10.8559(52/479) 11.2921\n",
            "LEVEL 4:    11.7647(52/442) 10.8559(52/479) 11.2921\n",
            "PASS: run-cost-train.sh\n",
            "==================\n",
            "All 3 tests passed\n",
            "==================\n",
            "make[2]: Leaving directory '/tmp/mecab-0.996-ko-0.9.2/tests'\n",
            "make[1]: Leaving directory '/tmp/mecab-0.996-ko-0.9.2/tests'\n",
            "make[1]: Entering directory '/tmp/mecab-0.996-ko-0.9.2'\n",
            "make[1]: Leaving directory '/tmp/mecab-0.996-ko-0.9.2'\n",
            "Making install in src\n",
            "make[1]: Entering directory '/tmp/mecab-0.996-ko-0.9.2/src'\n",
            "make[2]: Entering directory '/tmp/mecab-0.996-ko-0.9.2/src'\n",
            "test -z \"/usr/local/lib\" || /bin/mkdir -p \"/usr/local/lib\"\n",
            " /bin/bash ../libtool   --mode=install /usr/bin/install -c   libmecab.la '/usr/local/lib'\n",
            "libtool: install: /usr/bin/install -c .libs/libmecab.so.2.0.0 /usr/local/lib/libmecab.so.2.0.0\n",
            "libtool: install: (cd /usr/local/lib && { ln -s -f libmecab.so.2.0.0 libmecab.so.2 || { rm -f libmecab.so.2 && ln -s libmecab.so.2.0.0 libmecab.so.2; }; })\n",
            "libtool: install: (cd /usr/local/lib && { ln -s -f libmecab.so.2.0.0 libmecab.so || { rm -f libmecab.so && ln -s libmecab.so.2.0.0 libmecab.so; }; })\n",
            "libtool: install: /usr/bin/install -c .libs/libmecab.lai /usr/local/lib/libmecab.la\n",
            "libtool: install: /usr/bin/install -c .libs/libmecab.a /usr/local/lib/libmecab.a\n",
            "libtool: install: chmod 644 /usr/local/lib/libmecab.a\n",
            "libtool: install: ranlib /usr/local/lib/libmecab.a\n",
            "libtool: finish: PATH=\"/opt/bin:/usr/local/nvidia/bin:/usr/local/cuda/bin:/usr/local/sbin:/usr/local/bin:/usr/sbin:/usr/bin:/sbin:/bin:/tools/node/bin:/tools/google-cloud-sdk/bin:/sbin\" ldconfig -n /usr/local/lib\n",
            "----------------------------------------------------------------------\n",
            "Libraries have been installed in:\n",
            "   /usr/local/lib\n",
            "\n",
            "If you ever happen to want to link against installed libraries\n",
            "in a given directory, LIBDIR, you must either use libtool, and\n",
            "specify the full pathname of the library, or use the `-LLIBDIR'\n",
            "flag during linking and do at least one of the following:\n",
            "   - add LIBDIR to the `LD_LIBRARY_PATH' environment variable\n",
            "     during execution\n",
            "   - add LIBDIR to the `LD_RUN_PATH' environment variable\n",
            "     during linking\n",
            "   - use the `-Wl,-rpath -Wl,LIBDIR' linker flag\n",
            "   - have your system administrator add LIBDIR to `/etc/ld.so.conf'\n",
            "\n",
            "See any operating system documentation about shared libraries for\n",
            "more information, such as the ld(1) and ld.so(8) manual pages.\n",
            "----------------------------------------------------------------------\n",
            "test -z \"/usr/local/bin\" || /bin/mkdir -p \"/usr/local/bin\"\n",
            "  /bin/bash ../libtool   --mode=install /usr/bin/install -c mecab '/usr/local/bin'\n",
            "libtool: install: /usr/bin/install -c .libs/mecab /usr/local/bin/mecab\n",
            "test -z \"/usr/local/libexec/mecab\" || /bin/mkdir -p \"/usr/local/libexec/mecab\"\n",
            "  /bin/bash ../libtool   --mode=install /usr/bin/install -c mecab-dict-index mecab-dict-gen mecab-cost-train mecab-system-eval mecab-test-gen '/usr/local/libexec/mecab'\n",
            "libtool: install: /usr/bin/install -c .libs/mecab-dict-index /usr/local/libexec/mecab/mecab-dict-index\n",
            "libtool: install: /usr/bin/install -c .libs/mecab-dict-gen /usr/local/libexec/mecab/mecab-dict-gen\n",
            "libtool: install: /usr/bin/install -c .libs/mecab-cost-train /usr/local/libexec/mecab/mecab-cost-train\n",
            "libtool: install: /usr/bin/install -c .libs/mecab-system-eval /usr/local/libexec/mecab/mecab-system-eval\n",
            "libtool: install: /usr/bin/install -c .libs/mecab-test-gen /usr/local/libexec/mecab/mecab-test-gen\n",
            "test -z \"/usr/local/include\" || /bin/mkdir -p \"/usr/local/include\"\n",
            " /usr/bin/install -c -m 644 mecab.h '/usr/local/include'\n",
            "make[2]: Leaving directory '/tmp/mecab-0.996-ko-0.9.2/src'\n",
            "make[1]: Leaving directory '/tmp/mecab-0.996-ko-0.9.2/src'\n",
            "Making install in man\n",
            "make[1]: Entering directory '/tmp/mecab-0.996-ko-0.9.2/man'\n",
            "make[2]: Entering directory '/tmp/mecab-0.996-ko-0.9.2/man'\n",
            "make[2]: Nothing to be done for 'install-exec-am'.\n",
            "test -z \"/usr/local/share/man/man1\" || /bin/mkdir -p \"/usr/local/share/man/man1\"\n",
            " /usr/bin/install -c -m 644 mecab.1 '/usr/local/share/man/man1'\n",
            "make[2]: Leaving directory '/tmp/mecab-0.996-ko-0.9.2/man'\n",
            "make[1]: Leaving directory '/tmp/mecab-0.996-ko-0.9.2/man'\n",
            "Making install in doc\n",
            "make[1]: Entering directory '/tmp/mecab-0.996-ko-0.9.2/doc'\n",
            "make[2]: Entering directory '/tmp/mecab-0.996-ko-0.9.2/doc'\n",
            "make[2]: Nothing to be done for 'install-exec-am'.\n",
            "make[2]: Nothing to be done for 'install-data-am'.\n",
            "make[2]: Leaving directory '/tmp/mecab-0.996-ko-0.9.2/doc'\n",
            "make[1]: Leaving directory '/tmp/mecab-0.996-ko-0.9.2/doc'\n",
            "Making install in tests\n",
            "make[1]: Entering directory '/tmp/mecab-0.996-ko-0.9.2/tests'\n",
            "make[2]: Entering directory '/tmp/mecab-0.996-ko-0.9.2/tests'\n",
            "make[2]: Nothing to be done for 'install-exec-am'.\n",
            "make[2]: Nothing to be done for 'install-data-am'.\n",
            "make[2]: Leaving directory '/tmp/mecab-0.996-ko-0.9.2/tests'\n",
            "make[1]: Leaving directory '/tmp/mecab-0.996-ko-0.9.2/tests'\n",
            "make[1]: Entering directory '/tmp/mecab-0.996-ko-0.9.2'\n",
            "make[2]: Entering directory '/tmp/mecab-0.996-ko-0.9.2'\n",
            "test -z \"/usr/local/bin\" || /bin/mkdir -p \"/usr/local/bin\"\n",
            " /usr/bin/install -c mecab-config '/usr/local/bin'\n",
            "test -z \"/usr/local/etc\" || /bin/mkdir -p \"/usr/local/etc\"\n",
            " /usr/bin/install -c -m 644 mecabrc '/usr/local/etc'\n",
            "make[2]: Leaving directory '/tmp/mecab-0.996-ko-0.9.2'\n",
            "make[1]: Leaving directory '/tmp/mecab-0.996-ko-0.9.2'\n",
            "/sbin/ldconfig.real: /usr/local/lib/python3.7/dist-packages/ideep4py/lib/libmkldnn.so.0 is not a symbolic link\n",
            "\n",
            "--2022-03-27 19:51:13--  https://www.dropbox.com/s/i8girnk5p80076c/mecab-ko-dic-2.1.1-20180720.tar.gz?dl=1\n",
            "Resolving www.dropbox.com (www.dropbox.com)... 162.125.65.18, 2620:100:6023:18::a27d:4312\n",
            "Connecting to www.dropbox.com (www.dropbox.com)|162.125.65.18|:443... connected.\n",
            "HTTP request sent, awaiting response... 301 Moved Permanently\n",
            "Location: /s/dl/i8girnk5p80076c/mecab-ko-dic-2.1.1-20180720.tar.gz [following]\n",
            "--2022-03-27 19:51:14--  https://www.dropbox.com/s/dl/i8girnk5p80076c/mecab-ko-dic-2.1.1-20180720.tar.gz\n",
            "Reusing existing connection to www.dropbox.com:443.\n",
            "HTTP request sent, awaiting response... 302 Found\n",
            "Location: https://uc309c2cffbe3bb8798da57d82a2.dl.dropboxusercontent.com/cd/0/get/BiS3b7A30-AjJDVRQcFooLpP4eM_2cnJIMdBJ4e-pbg-e0KNXX59LTWtiZM2CHnu_Z7k_59q_0fZ6eXNYA7qXoLOrGh6KMDQme3TpvXrGclAeK5JO4OR_6j-f4peCBfOH1SIbLOEDJe1OwoJ8IDyw8ftJ9ILdUIb0cevdXNCmI2ioU_yoABlTKMMykBx5mNpELE/file?dl=1# [following]\n",
            "--2022-03-27 19:51:14--  https://uc309c2cffbe3bb8798da57d82a2.dl.dropboxusercontent.com/cd/0/get/BiS3b7A30-AjJDVRQcFooLpP4eM_2cnJIMdBJ4e-pbg-e0KNXX59LTWtiZM2CHnu_Z7k_59q_0fZ6eXNYA7qXoLOrGh6KMDQme3TpvXrGclAeK5JO4OR_6j-f4peCBfOH1SIbLOEDJe1OwoJ8IDyw8ftJ9ILdUIb0cevdXNCmI2ioU_yoABlTKMMykBx5mNpELE/file?dl=1\n",
            "Resolving uc309c2cffbe3bb8798da57d82a2.dl.dropboxusercontent.com (uc309c2cffbe3bb8798da57d82a2.dl.dropboxusercontent.com)... 162.125.65.15, 2620:100:6027:15::a27d:480f\n",
            "Connecting to uc309c2cffbe3bb8798da57d82a2.dl.dropboxusercontent.com (uc309c2cffbe3bb8798da57d82a2.dl.dropboxusercontent.com)|162.125.65.15|:443... connected.\n",
            "HTTP request sent, awaiting response... 200 OK\n",
            "Length: 49775061 (47M) [application/binary]\n",
            "Saving to: ‘mecab-ko-dic-2.1.1-20180720.tar.gz?dl=1.1’\n",
            "\n",
            "mecab-ko-dic-2.1.1- 100%[===================>]  47.47M  27.6MB/s    in 1.7s    \n",
            "\n",
            "2022-03-27 19:51:16 (27.6 MB/s) - ‘mecab-ko-dic-2.1.1-20180720.tar.gz?dl=1.1’ saved [49775061/49775061]\n",
            "\n",
            "Reading package lists... Done\n",
            "Building dependency tree       \n",
            "Reading state information... Done\n",
            "autoconf is already the newest version (2.69-11).\n",
            "0 upgraded, 0 newly installed, 0 to remove and 39 not upgraded.\n",
            "mecab-ko-dic-2.1.1-20180720/\n",
            "mecab-ko-dic-2.1.1-20180720/configure\n",
            "mecab-ko-dic-2.1.1-20180720/COPYING\n",
            "mecab-ko-dic-2.1.1-20180720/autogen.sh\n",
            "mecab-ko-dic-2.1.1-20180720/Place-station.csv\n",
            "mecab-ko-dic-2.1.1-20180720/NNG.csv\n",
            "mecab-ko-dic-2.1.1-20180720/README\n",
            "mecab-ko-dic-2.1.1-20180720/EF.csv\n",
            "mecab-ko-dic-2.1.1-20180720/MAG.csv\n",
            "mecab-ko-dic-2.1.1-20180720/Preanalysis.csv\n",
            "mecab-ko-dic-2.1.1-20180720/NNB.csv\n",
            "mecab-ko-dic-2.1.1-20180720/Person-actor.csv\n",
            "mecab-ko-dic-2.1.1-20180720/VV.csv\n",
            "mecab-ko-dic-2.1.1-20180720/Makefile.in\n",
            "mecab-ko-dic-2.1.1-20180720/matrix.def\n",
            "mecab-ko-dic-2.1.1-20180720/EC.csv\n",
            "mecab-ko-dic-2.1.1-20180720/NNBC.csv\n",
            "mecab-ko-dic-2.1.1-20180720/clean\n",
            "mecab-ko-dic-2.1.1-20180720/ChangeLog\n",
            "mecab-ko-dic-2.1.1-20180720/J.csv\n",
            "mecab-ko-dic-2.1.1-20180720/.keep\n",
            "mecab-ko-dic-2.1.1-20180720/feature.def\n",
            "mecab-ko-dic-2.1.1-20180720/Foreign.csv\n",
            "mecab-ko-dic-2.1.1-20180720/XPN.csv\n",
            "mecab-ko-dic-2.1.1-20180720/EP.csv\n",
            "mecab-ko-dic-2.1.1-20180720/NR.csv\n",
            "mecab-ko-dic-2.1.1-20180720/left-id.def\n",
            "mecab-ko-dic-2.1.1-20180720/Place.csv\n",
            "mecab-ko-dic-2.1.1-20180720/Symbol.csv\n",
            "mecab-ko-dic-2.1.1-20180720/dicrc\n",
            "mecab-ko-dic-2.1.1-20180720/NP.csv\n",
            "mecab-ko-dic-2.1.1-20180720/ETM.csv\n",
            "mecab-ko-dic-2.1.1-20180720/IC.csv\n",
            "mecab-ko-dic-2.1.1-20180720/Place-address.csv\n",
            "mecab-ko-dic-2.1.1-20180720/Group.csv\n",
            "mecab-ko-dic-2.1.1-20180720/model.def\n",
            "mecab-ko-dic-2.1.1-20180720/XSN.csv\n",
            "mecab-ko-dic-2.1.1-20180720/INSTALL\n",
            "mecab-ko-dic-2.1.1-20180720/rewrite.def\n",
            "mecab-ko-dic-2.1.1-20180720/Inflect.csv\n",
            "mecab-ko-dic-2.1.1-20180720/configure.ac\n",
            "mecab-ko-dic-2.1.1-20180720/NNP.csv\n",
            "mecab-ko-dic-2.1.1-20180720/CoinedWord.csv\n",
            "mecab-ko-dic-2.1.1-20180720/XSV.csv\n",
            "mecab-ko-dic-2.1.1-20180720/pos-id.def\n",
            "mecab-ko-dic-2.1.1-20180720/Makefile.am\n",
            "mecab-ko-dic-2.1.1-20180720/unk.def\n",
            "mecab-ko-dic-2.1.1-20180720/missing\n",
            "mecab-ko-dic-2.1.1-20180720/VCP.csv\n",
            "mecab-ko-dic-2.1.1-20180720/install-sh\n",
            "mecab-ko-dic-2.1.1-20180720/Hanja.csv\n",
            "mecab-ko-dic-2.1.1-20180720/MAJ.csv\n",
            "mecab-ko-dic-2.1.1-20180720/XSA.csv\n",
            "mecab-ko-dic-2.1.1-20180720/Wikipedia.csv\n",
            "mecab-ko-dic-2.1.1-20180720/tools/\n",
            "mecab-ko-dic-2.1.1-20180720/tools/add-userdic.sh\n",
            "mecab-ko-dic-2.1.1-20180720/tools/mecab-bestn.sh\n",
            "mecab-ko-dic-2.1.1-20180720/tools/convert_for_using_store.sh\n",
            "mecab-ko-dic-2.1.1-20180720/user-dic/\n",
            "mecab-ko-dic-2.1.1-20180720/user-dic/nnp.csv\n",
            "mecab-ko-dic-2.1.1-20180720/user-dic/place.csv\n",
            "mecab-ko-dic-2.1.1-20180720/user-dic/person.csv\n",
            "mecab-ko-dic-2.1.1-20180720/user-dic/README.md\n",
            "mecab-ko-dic-2.1.1-20180720/NorthKorea.csv\n",
            "mecab-ko-dic-2.1.1-20180720/VX.csv\n",
            "mecab-ko-dic-2.1.1-20180720/right-id.def\n",
            "mecab-ko-dic-2.1.1-20180720/VA.csv\n",
            "mecab-ko-dic-2.1.1-20180720/char.def\n",
            "mecab-ko-dic-2.1.1-20180720/NEWS\n",
            "mecab-ko-dic-2.1.1-20180720/MM.csv\n",
            "mecab-ko-dic-2.1.1-20180720/ETN.csv\n",
            "mecab-ko-dic-2.1.1-20180720/AUTHORS\n",
            "mecab-ko-dic-2.1.1-20180720/Person.csv\n",
            "mecab-ko-dic-2.1.1-20180720/XR.csv\n",
            "mecab-ko-dic-2.1.1-20180720/VCN.csv\n",
            "Looking in current directory for macros.\n",
            "configure.ac:2: warning: AM_INIT_AUTOMAKE: two- and three-arguments forms are deprecated.  For more info, see:\n",
            "configure.ac:2: http://www.gnu.org/software/automake/manual/automake.html#Modernize-AM_005fINIT_005fAUTOMAKE-invocation\n",
            "checking for a BSD-compatible install... /usr/bin/install -c\n",
            "checking whether build environment is sane... yes\n",
            "/tmp/mecab-ko-dic-2.1.1-20180720/missing: Unknown `--is-lightweight' option\n",
            "Try `/tmp/mecab-ko-dic-2.1.1-20180720/missing --help' for more information\n",
            "configure: WARNING: 'missing' script is too old or missing\n",
            "checking for a thread-safe mkdir -p... /bin/mkdir -p\n",
            "checking for gawk... no\n",
            "checking for mawk... mawk\n",
            "checking whether make sets $(MAKE)... yes\n",
            "checking whether make supports nested variables... yes\n",
            "checking for mecab-config... /usr/local/bin/mecab-config\n",
            "checking that generated files are newer than configure... done\n",
            "configure: creating ./config.status\n",
            "config.status: creating Makefile\n",
            "make: Nothing to be done for 'all'.\n",
            "make[1]: Entering directory '/tmp/mecab-ko-dic-2.1.1-20180720'\n",
            "make[1]: Nothing to be done for 'install-exec-am'.\n",
            " /bin/mkdir -p '/usr/local/lib/mecab/dic/mecab-ko-dic'\n",
            " /usr/bin/install -c -m 644 model.bin matrix.bin char.bin sys.dic unk.dic left-id.def right-id.def rewrite.def pos-id.def dicrc '/usr/local/lib/mecab/dic/mecab-ko-dic'\n",
            "make[1]: Leaving directory '/tmp/mecab-ko-dic-2.1.1-20180720'\n",
            "/sbin/ldconfig.real: /usr/local/lib/python3.7/dist-packages/ideep4py/lib/libmkldnn.so.0 is not a symbolic link\n",
            "\n",
            "fatal: destination path 'mecab-python-0.996' already exists and is not an empty directory.\n",
            "Requirement already satisfied: konlpy in /usr/local/lib/python3.7/dist-packages (0.6.0)\n",
            "Requirement already satisfied: numpy>=1.6 in /usr/local/lib/python3.7/dist-packages (from konlpy) (1.21.5)\n",
            "Requirement already satisfied: JPype1>=0.7.0 in /usr/local/lib/python3.7/dist-packages (from konlpy) (1.3.0)\n",
            "Requirement already satisfied: lxml>=4.1.0 in /usr/local/lib/python3.7/dist-packages (from konlpy) (4.2.6)\n",
            "Requirement already satisfied: typing-extensions in /usr/local/lib/python3.7/dist-packages (from JPype1>=0.7.0->konlpy) (3.10.0.2)\n"
          ]
        }
      ],
      "source": [
        "# konlpy, Mecab 형태소 분석기 설치 스크립트 실행\n",
        "!curl -s https://raw.githubusercontent.com/teddylee777/machine-learning/master/99-Misc/01-Colab/mecab-colab.sh | bash"
      ]
    },
    {
      "cell_type": "markdown",
      "metadata": {
        "id": "rauurRgGvEGA"
      },
      "source": [
        "# 필요한 라이브러리 import"
      ]
    },
    {
      "cell_type": "code",
      "execution_count": null,
      "metadata": {
        "id": "DrgIQm7a4E3u"
      },
      "outputs": [],
      "source": [
        "import warnings\n",
        "warnings.filterwarnings('ignore')\n",
        "\n",
        "import re\n",
        "import urllib.request\n",
        "import numpy as np\n",
        "import pandas as pd\n",
        "import matplotlib.pyplot as plt\n",
        "%matplotlib inline\n",
        "import tensorflow as tf\n",
        "from tensorflow import keras\n",
        "from konlpy.tag import Mecab"
      ]
    },
    {
      "cell_type": "markdown",
      "metadata": {
        "id": "hLfV01Zr4_MY"
      },
      "source": [
        "# 데이터 불러오기 및 전처리"
      ]
    },
    {
      "cell_type": "code",
      "execution_count": null,
      "metadata": {
        "colab": {
          "base_uri": "https://localhost:8080/"
        },
        "id": "zpGltXwfXICy",
        "outputId": "8051c98b-92a0-418d-dbf4-023f1c1bf9ae"
      },
      "outputs": [
        {
          "data": {
            "text/plain": [
              "('ratings_test.txt', <http.client.HTTPMessage at 0x7fad4c755890>)"
            ]
          },
          "execution_count": 3,
          "metadata": {},
          "output_type": "execute_result"
        }
      ],
      "source": [
        "urllib.request.urlretrieve(\"https://raw.githubusercontent.com/e9t/nsmc/master/ratings_train.txt\", filename=\"ratings_train.txt\")\n",
        "urllib.request.urlretrieve(\"https://raw.githubusercontent.com/e9t/nsmc/master/ratings_test.txt\", filename=\"ratings_test.txt\")"
      ]
    },
    {
      "cell_type": "code",
      "execution_count": null,
      "metadata": {
        "id": "jkwHvHdKhBOS"
      },
      "outputs": [],
      "source": [
        "train_data = pd.read_table('ratings_train.txt')\n",
        "test_data = pd.read_table('ratings_test.txt')"
      ]
    },
    {
      "cell_type": "code",
      "execution_count": null,
      "metadata": {
        "colab": {
          "base_uri": "https://localhost:8080/"
        },
        "id": "SbLW9NkmhDcc",
        "outputId": "47244b20-ab8f-4fcc-a7fb-8ef9dc1e62ed"
      },
      "outputs": [
        {
          "name": "stdout",
          "output_type": "stream",
          "text": [
            "훈련용 리뷰 개수 : 150000\n",
            "테스트용 리뷰 개수 : 50000\n"
          ]
        }
      ],
      "source": [
        "print('훈련용 리뷰 개수 :',len(train_data))  # 훈련용 리뷰 개수 출력\n",
        "print('테스트용 리뷰 개수 :',len(test_data))  # 테스트용 리뷰 개수 출력"
      ]
    },
    {
      "cell_type": "code",
      "execution_count": null,
      "metadata": {
        "colab": {
          "base_uri": "https://localhost:8080/",
          "height": 206
        },
        "id": "ABESFjIIhGBa",
        "outputId": "5c91f09b-85e1-42d7-ab40-b24566631510"
      },
      "outputs": [
        {
          "data": {
            "text/html": [
              "\n",
              "  <div id=\"df-ab13b4f4-f757-4e9f-8949-03296746bd47\">\n",
              "    <div class=\"colab-df-container\">\n",
              "      <div>\n",
              "<style scoped>\n",
              "    .dataframe tbody tr th:only-of-type {\n",
              "        vertical-align: middle;\n",
              "    }\n",
              "\n",
              "    .dataframe tbody tr th {\n",
              "        vertical-align: top;\n",
              "    }\n",
              "\n",
              "    .dataframe thead th {\n",
              "        text-align: right;\n",
              "    }\n",
              "</style>\n",
              "<table border=\"1\" class=\"dataframe\">\n",
              "  <thead>\n",
              "    <tr style=\"text-align: right;\">\n",
              "      <th></th>\n",
              "      <th>id</th>\n",
              "      <th>document</th>\n",
              "      <th>label</th>\n",
              "    </tr>\n",
              "  </thead>\n",
              "  <tbody>\n",
              "    <tr>\n",
              "      <th>0</th>\n",
              "      <td>9976970</td>\n",
              "      <td>아 더빙.. 진짜 짜증나네요 목소리</td>\n",
              "      <td>0</td>\n",
              "    </tr>\n",
              "    <tr>\n",
              "      <th>1</th>\n",
              "      <td>3819312</td>\n",
              "      <td>흠...포스터보고 초딩영화줄....오버연기조차 가볍지 않구나</td>\n",
              "      <td>1</td>\n",
              "    </tr>\n",
              "    <tr>\n",
              "      <th>2</th>\n",
              "      <td>10265843</td>\n",
              "      <td>너무재밓었다그래서보는것을추천한다</td>\n",
              "      <td>0</td>\n",
              "    </tr>\n",
              "    <tr>\n",
              "      <th>3</th>\n",
              "      <td>9045019</td>\n",
              "      <td>교도소 이야기구먼 ..솔직히 재미는 없다..평점 조정</td>\n",
              "      <td>0</td>\n",
              "    </tr>\n",
              "    <tr>\n",
              "      <th>4</th>\n",
              "      <td>6483659</td>\n",
              "      <td>사이몬페그의 익살스런 연기가 돋보였던 영화!스파이더맨에서 늙어보이기만 했던 커스틴 ...</td>\n",
              "      <td>1</td>\n",
              "    </tr>\n",
              "  </tbody>\n",
              "</table>\n",
              "</div>\n",
              "      <button class=\"colab-df-convert\" onclick=\"convertToInteractive('df-ab13b4f4-f757-4e9f-8949-03296746bd47')\"\n",
              "              title=\"Convert this dataframe to an interactive table.\"\n",
              "              style=\"display:none;\">\n",
              "        \n",
              "  <svg xmlns=\"http://www.w3.org/2000/svg\" height=\"24px\"viewBox=\"0 0 24 24\"\n",
              "       width=\"24px\">\n",
              "    <path d=\"M0 0h24v24H0V0z\" fill=\"none\"/>\n",
              "    <path d=\"M18.56 5.44l.94 2.06.94-2.06 2.06-.94-2.06-.94-.94-2.06-.94 2.06-2.06.94zm-11 1L8.5 8.5l.94-2.06 2.06-.94-2.06-.94L8.5 2.5l-.94 2.06-2.06.94zm10 10l.94 2.06.94-2.06 2.06-.94-2.06-.94-.94-2.06-.94 2.06-2.06.94z\"/><path d=\"M17.41 7.96l-1.37-1.37c-.4-.4-.92-.59-1.43-.59-.52 0-1.04.2-1.43.59L10.3 9.45l-7.72 7.72c-.78.78-.78 2.05 0 2.83L4 21.41c.39.39.9.59 1.41.59.51 0 1.02-.2 1.41-.59l7.78-7.78 2.81-2.81c.8-.78.8-2.07 0-2.86zM5.41 20L4 18.59l7.72-7.72 1.47 1.35L5.41 20z\"/>\n",
              "  </svg>\n",
              "      </button>\n",
              "      \n",
              "  <style>\n",
              "    .colab-df-container {\n",
              "      display:flex;\n",
              "      flex-wrap:wrap;\n",
              "      gap: 12px;\n",
              "    }\n",
              "\n",
              "    .colab-df-convert {\n",
              "      background-color: #E8F0FE;\n",
              "      border: none;\n",
              "      border-radius: 50%;\n",
              "      cursor: pointer;\n",
              "      display: none;\n",
              "      fill: #1967D2;\n",
              "      height: 32px;\n",
              "      padding: 0 0 0 0;\n",
              "      width: 32px;\n",
              "    }\n",
              "\n",
              "    .colab-df-convert:hover {\n",
              "      background-color: #E2EBFA;\n",
              "      box-shadow: 0px 1px 2px rgba(60, 64, 67, 0.3), 0px 1px 3px 1px rgba(60, 64, 67, 0.15);\n",
              "      fill: #174EA6;\n",
              "    }\n",
              "\n",
              "    [theme=dark] .colab-df-convert {\n",
              "      background-color: #3B4455;\n",
              "      fill: #D2E3FC;\n",
              "    }\n",
              "\n",
              "    [theme=dark] .colab-df-convert:hover {\n",
              "      background-color: #434B5C;\n",
              "      box-shadow: 0px 1px 3px 1px rgba(0, 0, 0, 0.15);\n",
              "      filter: drop-shadow(0px 1px 2px rgba(0, 0, 0, 0.3));\n",
              "      fill: #FFFFFF;\n",
              "    }\n",
              "  </style>\n",
              "\n",
              "      <script>\n",
              "        const buttonEl =\n",
              "          document.querySelector('#df-ab13b4f4-f757-4e9f-8949-03296746bd47 button.colab-df-convert');\n",
              "        buttonEl.style.display =\n",
              "          google.colab.kernel.accessAllowed ? 'block' : 'none';\n",
              "\n",
              "        async function convertToInteractive(key) {\n",
              "          const element = document.querySelector('#df-ab13b4f4-f757-4e9f-8949-03296746bd47');\n",
              "          const dataTable =\n",
              "            await google.colab.kernel.invokeFunction('convertToInteractive',\n",
              "                                                     [key], {});\n",
              "          if (!dataTable) return;\n",
              "\n",
              "          const docLinkHtml = 'Like what you see? Visit the ' +\n",
              "            '<a target=\"_blank\" href=https://colab.research.google.com/notebooks/data_table.ipynb>data table notebook</a>'\n",
              "            + ' to learn more about interactive tables.';\n",
              "          element.innerHTML = '';\n",
              "          dataTable['output_type'] = 'display_data';\n",
              "          await google.colab.output.renderOutput(dataTable, element);\n",
              "          const docLink = document.createElement('div');\n",
              "          docLink.innerHTML = docLinkHtml;\n",
              "          element.appendChild(docLink);\n",
              "        }\n",
              "      </script>\n",
              "    </div>\n",
              "  </div>\n",
              "  "
            ],
            "text/plain": [
              "         id                                           document  label\n",
              "0   9976970                                아 더빙.. 진짜 짜증나네요 목소리      0\n",
              "1   3819312                  흠...포스터보고 초딩영화줄....오버연기조차 가볍지 않구나      1\n",
              "2  10265843                                  너무재밓었다그래서보는것을추천한다      0\n",
              "3   9045019                      교도소 이야기구먼 ..솔직히 재미는 없다..평점 조정      0\n",
              "4   6483659  사이몬페그의 익살스런 연기가 돋보였던 영화!스파이더맨에서 늙어보이기만 했던 커스틴 ...      1"
            ]
          },
          "execution_count": 6,
          "metadata": {},
          "output_type": "execute_result"
        }
      ],
      "source": [
        "train_data.head()"
      ]
    },
    {
      "cell_type": "code",
      "execution_count": null,
      "metadata": {
        "colab": {
          "base_uri": "https://localhost:8080/"
        },
        "id": "1IfZ8GILhRTt",
        "outputId": "07137157-f085-437d-e282-39a3675017b5"
      },
      "outputs": [
        {
          "name": "stdout",
          "output_type": "stream",
          "text": [
            "True\n"
          ]
        }
      ],
      "source": [
        "print(train_data.isnull().values.any())"
      ]
    },
    {
      "cell_type": "code",
      "execution_count": null,
      "metadata": {
        "id": "eg9XP_FDhddT"
      },
      "outputs": [],
      "source": [
        "# 전처리\n",
        "\n",
        "train_data.drop_duplicates(subset=['document'], inplace=True)\n",
        "train_data = train_data.dropna(how = 'any') \n",
        "train_data['document'] = train_data['document'].str.replace(\"[^ㄱ-ㅎㅏ-ㅣ가-힣 ]\",\"\")\n",
        "train_data['document'] = train_data['document'].str.replace('^ +', \"\")\n",
        "train_data['document'].replace('', np.nan, inplace=True)\n",
        "train_data = train_data.dropna(how = 'any')\n",
        "\n",
        "test_data.drop_duplicates(subset=['document'], inplace=True)\n",
        "test_data['document'] = test_data['document'].str.replace(\"[^ㄱ-ㅎㅏ-ㅣ가-힣 ]\",\"\")\n",
        "test_data['document'] = test_data['document'].str.replace('^ +', \"\") \n",
        "test_data['document'].replace('', np.nan, inplace=True) \n",
        "test_data = test_data.dropna(how = 'any')"
      ]
    },
    {
      "cell_type": "code",
      "execution_count": null,
      "metadata": {
        "colab": {
          "base_uri": "https://localhost:8080/"
        },
        "id": "ARA5BgsShvJZ",
        "outputId": "0e589d25-7912-46eb-c2ba-71634f8b6534"
      },
      "outputs": [
        {
          "name": "stdout",
          "output_type": "stream",
          "text": [
            "train_data 전처리 후 리뷰 개수: 145393\n",
            "test_data 전처리 후 리뷰 개수: 48852\n"
          ]
        }
      ],
      "source": [
        "print('train_data 전처리 후 리뷰 개수:', len(train_data))\n",
        "print('test_data 전처리 후 리뷰 개수:', len(test_data))"
      ]
    },
    {
      "cell_type": "code",
      "execution_count": null,
      "metadata": {
        "colab": {
          "base_uri": "https://localhost:8080/",
          "height": 354
        },
        "id": "IGpK9XHXiQTP",
        "outputId": "cc232e12-4029-4745-c510-d7458b9b4462"
      },
      "outputs": [
        {
          "name": "stdout",
          "output_type": "stream",
          "text": [
            "Data Size: 143620\n",
            "문장의 최단 길이: 1\n",
            "문장의 최장 길이: 140\n",
            "문장의 평균 길이: 33\n"
          ]
        },
        {
          "data": {
            "image/png": "[encoded data removed]",
            "text/plain": [
              "<Figure size 432x288 with 1 Axes>"
            ]
          },
          "metadata": {},
          "output_type": "display_data"
        }
      ],
      "source": [
        "min_len = 999\n",
        "max_len = 0\n",
        "sum_len = 0\n",
        "raw = train_data['document']\n",
        "\n",
        "cleaned_corpus = list(set(raw))  # set를 사용해서 중복을 제거합니다.\n",
        "print(\"Data Size:\", len(cleaned_corpus))\n",
        "\n",
        "for sen in cleaned_corpus:\n",
        "    length = len(sen)\n",
        "    if min_len > length: min_len = length\n",
        "    if max_len < length: max_len = length\n",
        "    sum_len += length\n",
        "\n",
        "print(\"문장의 최단 길이:\", min_len)\n",
        "print(\"문장의 최장 길이:\", max_len)\n",
        "print(\"문장의 평균 길이:\", sum_len // len(cleaned_corpus))\n",
        "\n",
        "sentence_length = np.zeros((max_len), dtype=np.int)\n",
        "\n",
        "for sen in cleaned_corpus:   # 중복이 제거된 코퍼스 기준\n",
        "    sentence_length[len(sen)-1] += 1\n",
        "\n",
        "plt.bar(range(max_len), sentence_length, width=1.0)\n",
        "plt.title(\"Sentence Length Distribution\")\n",
        "plt.show()"
      ]
    },
    {
      "cell_type": "code",
      "execution_count": null,
      "metadata": {
        "colab": {
          "base_uri": "https://localhost:8080/",
          "height": 281
        },
        "id": "afKlMm5gi8eU",
        "outputId": "901bc15c-27f7-4204-8de6-be6e438a2a6c"
      },
      "outputs": [
        {
          "data": {
            "image/png": "[encoded data removed]",
            "text/plain": [
              "<Figure size 432x288 with 1 Axes>"
            ]
          },
          "metadata": {},
          "output_type": "display_data"
        }
      ],
      "source": [
        "max_len = 100\n",
        "min_len = 1\n",
        "\n",
        "# 길이 조건에 맞는 문장만 선택합니다.\n",
        "filtered_corpus = [s for s in cleaned_corpus if (len(s) < max_len) & (len(s) >= min_len)]\n",
        "\n",
        "# 분포도를 다시 그려봅니다.\n",
        "sentence_length = np.zeros((max_len), dtype=np.int)\n",
        "\n",
        "for sen in filtered_corpus:\n",
        "    sentence_length[len(sen)-1] += 1\n",
        "\n",
        "plt.bar(range(max_len), sentence_length, width=1.0)\n",
        "plt.title(\"Sentence Length Distribution\")\n",
        "plt.show()"
      ]
    },
    {
      "cell_type": "markdown",
      "metadata": {
        "id": "9wv27mu_jkja"
      },
      "source": [
        "# SentencPiece 적용"
      ]
    },
    {
      "cell_type": "code",
      "execution_count": null,
      "metadata": {
        "colab": {
          "base_uri": "https://localhost:8080/"
        },
        "id": "juSKpolHj7LL",
        "outputId": "9417fa87-8542-487b-ff68-6934313136fa"
      },
      "outputs": [
        {
          "name": "stdout",
          "output_type": "stream",
          "text": [
            "Collecting sentencepiece\n",
            "  Downloading sentencepiece-0.1.96-cp37-cp37m-manylinux_2_17_x86_64.manylinux2014_x86_64.whl (1.2 MB)\n",
            "\u001b[?25l\r\u001b[K     |▎                               | 10 kB 31.1 MB/s eta 0:00:01\r\u001b[K     |▌                               | 20 kB 36.3 MB/s eta 0:00:01\r\u001b[K     |▉                               | 30 kB 22.3 MB/s eta 0:00:01\r\u001b[K     |█                               | 40 kB 18.4 MB/s eta 0:00:01\r\u001b[K     |█▍                              | 51 kB 13.7 MB/s eta 0:00:01\r\u001b[K     |█▋                              | 61 kB 15.9 MB/s eta 0:00:01\r\u001b[K     |██                              | 71 kB 14.5 MB/s eta 0:00:01\r\u001b[K     |██▏                             | 81 kB 14.1 MB/s eta 0:00:01\r\u001b[K     |██▍                             | 92 kB 15.4 MB/s eta 0:00:01\r\u001b[K     |██▊                             | 102 kB 14.7 MB/s eta 0:00:01\r\u001b[K     |███                             | 112 kB 14.7 MB/s eta 0:00:01\r\u001b[K     |███▎                            | 122 kB 14.7 MB/s eta 0:00:01\r\u001b[K     |███▌                            | 133 kB 14.7 MB/s eta 0:00:01\r\u001b[K     |███▉                            | 143 kB 14.7 MB/s eta 0:00:01\r\u001b[K     |████                            | 153 kB 14.7 MB/s eta 0:00:01\r\u001b[K     |████▎                           | 163 kB 14.7 MB/s eta 0:00:01\r\u001b[K     |████▋                           | 174 kB 14.7 MB/s eta 0:00:01\r\u001b[K     |████▉                           | 184 kB 14.7 MB/s eta 0:00:01\r\u001b[K     |█████▏                          | 194 kB 14.7 MB/s eta 0:00:01\r\u001b[K     |█████▍                          | 204 kB 14.7 MB/s eta 0:00:01\r\u001b[K     |█████▊                          | 215 kB 14.7 MB/s eta 0:00:01\r\u001b[K     |██████                          | 225 kB 14.7 MB/s eta 0:00:01\r\u001b[K     |██████▏                         | 235 kB 14.7 MB/s eta 0:00:01\r\u001b[K     |██████▌                         | 245 kB 14.7 MB/s eta 0:00:01\r\u001b[K     |██████▊                         | 256 kB 14.7 MB/s eta 0:00:01\r\u001b[K     |███████                         | 266 kB 14.7 MB/s eta 0:00:01\r\u001b[K     |███████▎                        | 276 kB 14.7 MB/s eta 0:00:01\r\u001b[K     |███████▋                        | 286 kB 14.7 MB/s eta 0:00:01\r\u001b[K     |███████▉                        | 296 kB 14.7 MB/s eta 0:00:01\r\u001b[K     |████████                        | 307 kB 14.7 MB/s eta 0:00:01\r\u001b[K     |████████▍                       | 317 kB 14.7 MB/s eta 0:00:01\r\u001b[K     |████████▋                       | 327 kB 14.7 MB/s eta 0:00:01\r\u001b[K     |█████████                       | 337 kB 14.7 MB/s eta 0:00:01\r\u001b[K     |█████████▏                      | 348 kB 14.7 MB/s eta 0:00:01\r\u001b[K     |█████████▌                      | 358 kB 14.7 MB/s eta 0:00:01\r\u001b[K     |█████████▊                      | 368 kB 14.7 MB/s eta 0:00:01\r\u001b[K     |██████████                      | 378 kB 14.7 MB/s eta 0:00:01\r\u001b[K     |██████████▎                     | 389 kB 14.7 MB/s eta 0:00:01\r\u001b[K     |██████████▌                     | 399 kB 14.7 MB/s eta 0:00:01\r\u001b[K     |██████████▉                     | 409 kB 14.7 MB/s eta 0:00:01\r\u001b[K     |███████████                     | 419 kB 14.7 MB/s eta 0:00:01\r\u001b[K     |███████████▍                    | 430 kB 14.7 MB/s eta 0:00:01\r\u001b[K     |███████████▋                    | 440 kB 14.7 MB/s eta 0:00:01\r\u001b[K     |███████████▉                    | 450 kB 14.7 MB/s eta 0:00:01\r\u001b[K     |████████████▏                   | 460 kB 14.7 MB/s eta 0:00:01\r\u001b[K     |████████████▍                   | 471 kB 14.7 MB/s eta 0:00:01\r\u001b[K     |████████████▊                   | 481 kB 14.7 MB/s eta 0:00:01\r\u001b[K     |█████████████                   | 491 kB 14.7 MB/s eta 0:00:01\r\u001b[K     |█████████████▎                  | 501 kB 14.7 MB/s eta 0:00:01\r\u001b[K     |█████████████▌                  | 512 kB 14.7 MB/s eta 0:00:01\r\u001b[K     |█████████████▊                  | 522 kB 14.7 MB/s eta 0:00:01\r\u001b[K     |██████████████                  | 532 kB 14.7 MB/s eta 0:00:01\r\u001b[K     |██████████████▎                 | 542 kB 14.7 MB/s eta 0:00:01\r\u001b[K     |██████████████▋                 | 552 kB 14.7 MB/s eta 0:00:01\r\u001b[K     |██████████████▉                 | 563 kB 14.7 MB/s eta 0:00:01\r\u001b[K     |███████████████▏                | 573 kB 14.7 MB/s eta 0:00:01\r\u001b[K     |███████████████▍                | 583 kB 14.7 MB/s eta 0:00:01\r\u001b[K     |███████████████▋                | 593 kB 14.7 MB/s eta 0:00:01\r\u001b[K     |████████████████                | 604 kB 14.7 MB/s eta 0:00:01\r\u001b[K     |████████████████▏               | 614 kB 14.7 MB/s eta 0:00:01\r\u001b[K     |████████████████▌               | 624 kB 14.7 MB/s eta 0:00:01\r\u001b[K     |████████████████▊               | 634 kB 14.7 MB/s eta 0:00:01\r\u001b[K     |█████████████████               | 645 kB 14.7 MB/s eta 0:00:01\r\u001b[K     |█████████████████▎              | 655 kB 14.7 MB/s eta 0:00:01\r\u001b[K     |█████████████████▌              | 665 kB 14.7 MB/s eta 0:00:01\r\u001b[K     |█████████████████▉              | 675 kB 14.7 MB/s eta 0:00:01\r\u001b[K     |██████████████████              | 686 kB 14.7 MB/s eta 0:00:01\r\u001b[K     |██████████████████▍             | 696 kB 14.7 MB/s eta 0:00:01\r\u001b[K     |██████████████████▋             | 706 kB 14.7 MB/s eta 0:00:01\r\u001b[K     |███████████████████             | 716 kB 14.7 MB/s eta 0:00:01\r\u001b[K     |███████████████████▏            | 727 kB 14.7 MB/s eta 0:00:01\r\u001b[K     |███████████████████▍            | 737 kB 14.7 MB/s eta 0:00:01\r\u001b[K     |███████████████████▊            | 747 kB 14.7 MB/s eta 0:00:01\r\u001b[K     |████████████████████            | 757 kB 14.7 MB/s eta 0:00:01\r\u001b[K     |████████████████████▎           | 768 kB 14.7 MB/s eta 0:00:01\r\u001b[K     |████████████████████▌           | 778 kB 14.7 MB/s eta 0:00:01\r\u001b[K     |████████████████████▉           | 788 kB 14.7 MB/s eta 0:00:01\r\u001b[K     |█████████████████████           | 798 kB 14.7 MB/s eta 0:00:01\r\u001b[K     |█████████████████████▎          | 808 kB 14.7 MB/s eta 0:00:01\r\u001b[K     |█████████████████████▋          | 819 kB 14.7 MB/s eta 0:00:01\r\u001b[K     |█████████████████████▉          | 829 kB 14.7 MB/s eta 0:00:01\r\u001b[K     |██████████████████████▏         | 839 kB 14.7 MB/s eta 0:00:01\r\u001b[K     |██████████████████████▍         | 849 kB 14.7 MB/s eta 0:00:01\r\u001b[K     |██████████████████████▊         | 860 kB 14.7 MB/s eta 0:00:01\r\u001b[K     |███████████████████████         | 870 kB 14.7 MB/s eta 0:00:01\r\u001b[K     |███████████████████████▏        | 880 kB 14.7 MB/s eta 0:00:01\r\u001b[K     |███████████████████████▌        | 890 kB 14.7 MB/s eta 0:00:01\r\u001b[K     |███████████████████████▊        | 901 kB 14.7 MB/s eta 0:00:01\r\u001b[K     |████████████████████████        | 911 kB 14.7 MB/s eta 0:00:01\r\u001b[K     |████████████████████████▎       | 921 kB 14.7 MB/s eta 0:00:01\r\u001b[K     |████████████████████████▋       | 931 kB 14.7 MB/s eta 0:00:01\r\u001b[K     |████████████████████████▉       | 942 kB 14.7 MB/s eta 0:00:01\r\u001b[K     |█████████████████████████       | 952 kB 14.7 MB/s eta 0:00:01\r\u001b[K     |█████████████████████████▍      | 962 kB 14.7 MB/s eta 0:00:01\r\u001b[K     |█████████████████████████▋      | 972 kB 14.7 MB/s eta 0:00:01\r\u001b[K     |██████████████████████████      | 983 kB 14.7 MB/s eta 0:00:01\r\u001b[K     |██████████████████████████▏     | 993 kB 14.7 MB/s eta 0:00:01\r\u001b[K     |██████████████████████████▌     | 1.0 MB 14.7 MB/s eta 0:00:01\r\u001b[K     |██████████████████████████▊     | 1.0 MB 14.7 MB/s eta 0:00:01\r\u001b[K     |███████████████████████████     | 1.0 MB 14.7 MB/s eta 0:00:01\r\u001b[K     |███████████████████████████▎    | 1.0 MB 14.7 MB/s eta 0:00:01\r\u001b[K     |███████████████████████████▌    | 1.0 MB 14.7 MB/s eta 0:00:01\r\u001b[K     |███████████████████████████▉    | 1.1 MB 14.7 MB/s eta 0:00:01\r\u001b[K     |████████████████████████████    | 1.1 MB 14.7 MB/s eta 0:00:01\r\u001b[K     |████████████████████████████▍   | 1.1 MB 14.7 MB/s eta 0:00:01\r\u001b[K     |████████████████████████████▋   | 1.1 MB 14.7 MB/s eta 0:00:01\r\u001b[K     |████████████████████████████▉   | 1.1 MB 14.7 MB/s eta 0:00:01\r\u001b[K     |█████████████████████████████▏  | 1.1 MB 14.7 MB/s eta 0:00:01\r\u001b[K     |█████████████████████████████▍  | 1.1 MB 14.7 MB/s eta 0:00:01\r\u001b[K     |█████████████████████████████▊  | 1.1 MB 14.7 MB/s eta 0:00:01\r\u001b[K     |██████████████████████████████  | 1.1 MB 14.7 MB/s eta 0:00:01\r\u001b[K     |██████████████████████████████▎ | 1.1 MB 14.7 MB/s eta 0:00:01\r\u001b[K     |██████████████████████████████▌ | 1.2 MB 14.7 MB/s eta 0:00:01\r\u001b[K     |██████████████████████████████▊ | 1.2 MB 14.7 MB/s eta 0:00:01\r\u001b[K     |███████████████████████████████ | 1.2 MB 14.7 MB/s eta 0:00:01\r\u001b[K     |███████████████████████████████▎| 1.2 MB 14.7 MB/s eta 0:00:01\r\u001b[K     |███████████████████████████████▋| 1.2 MB 14.7 MB/s eta 0:00:01\r\u001b[K     |███████████████████████████████▉| 1.2 MB 14.7 MB/s eta 0:00:01\r\u001b[K     |████████████████████████████████| 1.2 MB 14.7 MB/s \n",
            "\u001b[?25hInstalling collected packages: sentencepiece\n",
            "Successfully installed sentencepiece-0.1.96\n"
          ]
        }
      ],
      "source": [
        "!pip install sentencepiece"
      ]
    },
    {
      "cell_type": "markdown",
      "metadata": {
        "id": "tSOBsZC5kB4W"
      },
      "source": [
        "```bash\n",
        "$ wget https://github.com/jungyeul/korean-parallel-corpora/raw/master/korean-english-news-v1/korean-english-park.train.tar.gz\n",
        "$ mkdir -p ~/aiffel/sp_tokenizer/data\n",
        "$ mv korean-english-park.train.tar.gz ~/aiffel/sp_tokenizer/data\n",
        "$ cd ~/aiffel/sp_tokenizer/data\n",
        "$ tar -xzvf korean-english-park.train.tar.gz\n",
        "```"
      ]
    },
    {
      "cell_type": "markdown",
      "metadata": {
        "id": "QRWuPdg_jpZv"
      },
      "source": [
        "## Sentencepiece unigram"
      ]
    },
    {
      "cell_type": "code",
      "execution_count": null,
      "metadata": {
        "colab": {
          "base_uri": "https://localhost:8080/"
        },
        "id": "C0PTCkbyjfna",
        "outputId": "6c8d0422-24c5-45d8-cee0-70c3cd7fb18d"
      },
      "outputs": [
        {
          "name": "stdout",
          "output_type": "stream",
          "text": [
            "-rw-r--r-- 1 root root 378458 Mar 27 19:52 navermovie_korean_spm_8000_unigram.model\n",
            "-rw-r--r-- 1 root root 147896 Mar 27 19:52 navermovie_korean_spm_8000_unigram.vocab\n"
          ]
        }
      ],
      "source": [
        "import sentencepiece as spm\n",
        "import os\n",
        "\n",
        "temp_file = os.getenv('HOME')+'/aiffel/sp_tokenizer/data/korean-english-park.train.ko.temp'\n",
        "\n",
        "vocab_size = 8000\n",
        "\n",
        "with open(temp_file, 'w') as f:\n",
        "    for row in filtered_corpus:   # 이전 스텝에서 정제했던 corpus를 활용합니다.\n",
        "        f.write(str(row) + '\\n')\n",
        "\n",
        "spm.SentencePieceTrainer.Train(\n",
        "    '--input={} --model_prefix=navermovie_korean_spm_8000_unigram --vocab_size={}'.format(temp_file, vocab_size)    \n",
        ")\n",
        "#위 Train에서  --model_type = 'unigram'이 디폴트 적용되어 있습니다. --model_type = 'bpe' 로 옵션을 주어 변경할 수 있습니다.\n",
        "\n",
        "!ls -l navermovie_korean_spm_8000_unigram*"
      ]
    },
    {
      "cell_type": "markdown",
      "metadata": {
        "id": "0MiPWTWvkxAv"
      },
      "source": [
        "## Sentencepiece BPE(Byte Pair Encoding)"
      ]
    },
    {
      "cell_type": "code",
      "execution_count": null,
      "metadata": {
        "colab": {
          "base_uri": "https://localhost:8080/"
        },
        "id": "lphrojCakv0x",
        "outputId": "cfaed205-5de8-4bc1-8e34-a7af0921d9a9"
      },
      "outputs": [
        {
          "name": "stdout",
          "output_type": "stream",
          "text": [
            "-rw-r--r-- 1 root root 373680 Mar 27 19:52 navermovie_korean_spm_8000_bpe.model\n",
            "-rw-r--r-- 1 root root 118868 Mar 27 19:52 navermovie_korean_spm_8000_bpe.vocab\n"
          ]
        }
      ],
      "source": [
        "import sentencepiece as spm\n",
        "import os\n",
        "\n",
        "temp_file = os.getenv('HOME')+'/aiffel/sp_tokenizer/data/korean-english-park.train.ko.temp'\n",
        "\n",
        "vocab_size = 8000\n",
        "\n",
        "with open(temp_file, 'w') as f:\n",
        "    for row in filtered_corpus:   # 이전 스텝에서 정제했던 corpus를 활용합니다.\n",
        "        f.write(str(row) + '\\n')\n",
        "\n",
        "spm.SentencePieceTrainer.Train(\n",
        "    '--input={} --model_prefix=navermovie_korean_spm_8000_bpe --model_type=bpe --vocab_size={}'.format(temp_file, vocab_size)    \n",
        ")\n",
        "#위 Train에서  --model_type = 'unigram'이 디폴트 적용되어 있습니다. --model_type = 'bpe' 로 옵션을 주어 변경할 수 있습니다.\n",
        "\n",
        "!ls -l navermovie_korean_spm_8000_bpe*"
      ]
    },
    {
      "cell_type": "markdown",
      "metadata": {
        "id": "zvi4b1velMTV"
      },
      "source": [
        "# 학습된 모델로 sp_tokenize() 메소드 구현"
      ]
    },
    {
      "cell_type": "markdown",
      "metadata": {
        "id": "i30I0eaBlZoS"
      },
      "source": [
        "## 8000_unigram"
      ]
    },
    {
      "cell_type": "code",
      "execution_count": null,
      "metadata": {
        "id": "rjNOC2MElLuc"
      },
      "outputs": [],
      "source": [
        "def sp_tokenize_8000_unigram(s, corpus):\n",
        "\n",
        "    tensor = []\n",
        "\n",
        "    for sen in corpus:\n",
        "        tensor.append(s.EncodeAsIds(sen))\n",
        "\n",
        "    with open(\"./navermovie_korean_spm_8000_unigram.vocab\", 'r') as f:\n",
        "        vocab = f.readlines()\n",
        "\n",
        "    word_index = {}\n",
        "    index_word = {}\n",
        "\n",
        "    for idx, line in enumerate(vocab):\n",
        "        word = line.split(\"\\t\")[0]\n",
        "\n",
        "        word_index.update({idx:word})\n",
        "        index_word.update({word:idx})\n",
        "\n",
        "    tensor = tf.keras.preprocessing.sequence.pad_sequences(tensor, padding='pre')  # 패딩\n",
        "\n",
        "    return tensor, word_index, index_word"
      ]
    },
    {
      "cell_type": "markdown",
      "metadata": {
        "id": "PTj8yqG4l30q"
      },
      "source": [
        "## 8000_bpe"
      ]
    },
    {
      "cell_type": "code",
      "execution_count": null,
      "metadata": {
        "id": "Ae8UgIDhl4QK"
      },
      "outputs": [],
      "source": [
        "def sp_tokenize_8000_bpe(s, corpus):\n",
        "\n",
        "    tensor = []\n",
        "\n",
        "    for sen in corpus:\n",
        "        tensor.append(s.EncodeAsIds(sen))\n",
        "\n",
        "    with open(\"./navermovie_korean_spm_8000_bpe.vocab\", 'r') as f:\n",
        "        vocab = f.readlines()\n",
        "\n",
        "    word_index = {}\n",
        "    index_word = {}\n",
        "\n",
        "    for idx, line in enumerate(vocab):\n",
        "        word = line.split(\"\\t\")[0]\n",
        "\n",
        "        word_index.update({idx:word})\n",
        "        index_word.update({word:idx})\n",
        "\n",
        "    tensor = tf.keras.preprocessing.sequence.pad_sequences(tensor, padding='pre')  # 패딩\n",
        "\n",
        "    return tensor, word_index, index_word"
      ]
    },
    {
      "cell_type": "markdown",
      "metadata": {
        "id": "6ICq3LhYyGN1"
      },
      "source": [
        "# 구현된 토크나이저를 적용하여 네이버 영화리뷰 감정 분석 모델을 재학습"
      ]
    },
    {
      "cell_type": "markdown",
      "metadata": {
        "id": "BmkM4wfHzzYp"
      },
      "source": [
        "## 데이터 로더 구성"
      ]
    },
    {
      "cell_type": "markdown",
      "metadata": {
        "id": "y80U_g06yZZe"
      },
      "source": [
        "### 8000_unigram"
      ]
    },
    {
      "cell_type": "code",
      "execution_count": null,
      "metadata": {
        "colab": {
          "base_uri": "https://localhost:8080/"
        },
        "id": "4eZiMF1ByJeN",
        "outputId": "b47366b9-3084-41f3-a991-3df2832b257c"
      },
      "outputs": [
        {
          "data": {
            "text/plain": [
              "True"
            ]
          },
          "execution_count": 17,
          "metadata": {},
          "output_type": "execute_result"
        }
      ],
      "source": [
        "s_unigram = spm.SentencePieceProcessor()\n",
        "s_unigram.Load('navermovie_korean_spm_8000_unigram.model')"
      ]
    },
    {
      "cell_type": "code",
      "execution_count": null,
      "metadata": {
        "id": "I0lNZoHtzcnp"
      },
      "outputs": [],
      "source": [
        "def load_data_8000_unigram(train_data, test_data, stpiece_model):\n",
        "    sentences =[]\n",
        "    train_data.drop_duplicates(subset=['document'], inplace=True)\n",
        "    train_data = train_data.dropna(how = 'any') \n",
        "\n",
        "    test_data.drop_duplicates(subset=['document'], inplace=True)\n",
        "    test_data = test_data.dropna(how = 'any') \n",
        "\n",
        "    # train 데이터 토큰화\n",
        "    raw_train = train_data['document'] \n",
        "    # unigram\n",
        "    tensor, word_index, index_word = sp_tokenize_8000_unigram(s_unigram, raw_train)\n",
        "    \n",
        "    # train 문장데이터를 수치화로 표현화한 리스트\n",
        "    X_train = []\n",
        "    # 수치화된 문장(텐서)를 리스트(sentences_index)에 넣어준다. \n",
        "    for array in tensor:\n",
        "        X_train.append(array)\n",
        "        \n",
        "    # test 데이터 토큰화\n",
        "    raw_test = test_data['document']\n",
        "    # unigram\n",
        "    tensor, word_index, index_word = sp_tokenize_8000_unigram(s_unigram, raw_test)\n",
        "    \n",
        "    # test 문장데이터를 수치화로 표현화한 리스트\n",
        "    X_test = []\n",
        "    for array in tensor:\n",
        "        X_test.append(array)\n",
        "        \n",
        "    X_train = np.asarray(X_train)\n",
        "    X_test = np.asarray(X_test)\n",
        "    \n",
        "    return X_train, np.array(list(train_data['label'])), X_test, np.array(list(test_data['label'])), word_index"
      ]
    },
    {
      "cell_type": "markdown",
      "metadata": {
        "id": "heXiSPGUydaw"
      },
      "source": [
        "### 8000_bpe"
      ]
    },
    {
      "cell_type": "code",
      "execution_count": null,
      "metadata": {
        "colab": {
          "base_uri": "https://localhost:8080/"
        },
        "id": "LsrnOuc0yfAH",
        "outputId": "56a326d8-560b-40b7-a7cc-ad5d7dae2209"
      },
      "outputs": [
        {
          "data": {
            "text/plain": [
              "True"
            ]
          },
          "execution_count": 19,
          "metadata": {},
          "output_type": "execute_result"
        }
      ],
      "source": [
        "s_bpe = spm.SentencePieceProcessor()\n",
        "s_bpe.Load('navermovie_korean_spm_8000_bpe.model')"
      ]
    },
    {
      "cell_type": "code",
      "execution_count": null,
      "metadata": {
        "id": "RvO1i8pMzc9s"
      },
      "outputs": [],
      "source": [
        "def load_data_8000_bpe(train_data, test_data, stpiece_model):\n",
        "    sentences =[]\n",
        "    train_data.drop_duplicates(subset=['document'], inplace=True)\n",
        "    train_data = train_data.dropna(how = 'any') \n",
        "\n",
        "    test_data.drop_duplicates(subset=['document'], inplace=True)\n",
        "    test_data = test_data.dropna(how = 'any') \n",
        "\n",
        "    # train 데이터 토큰화\n",
        "    raw_train = train_data['document'] \n",
        "    # bpe\n",
        "    tensor, word_index, index_word = sp_tokenize_8000_bpe(s_bpe, raw_train)\n",
        "    \n",
        "    # train 문장데이터를 수치화로 표현화한 리스트\n",
        "    X_train = []\n",
        "    # 수치화된 문장(텐서)를 리스트(sentences_index)에 넣어준다. \n",
        "    for array in tensor:\n",
        "        X_train.append(array)\n",
        "        \n",
        "    # test데이터 토큰화\n",
        "    raw_test = test_data['document']\n",
        "    # bpe\n",
        "    tensor, word_index, index_word = sp_tokenize_8000_bpe(s_bpe, raw_test)\n",
        "    \n",
        "    # test 문장데이터를 수치화로 표현화한 리스트\n",
        "    X_test = []\n",
        "    for array in tensor:\n",
        "        X_test.append(array)\n",
        "        \n",
        "    X_train = np.asarray(X_train)\n",
        "    X_test = np.asarray(X_test)\n",
        "    \n",
        "    return X_train, np.array(list(train_data['label'])), X_test, np.array(list(test_data['label'])), word_index"
      ]
    },
    {
      "cell_type": "code",
      "execution_count": null,
      "metadata": {
        "id": "JN_szGsL0WQJ"
      },
      "outputs": [],
      "source": [
        "# unigram\n",
        "X_train_unigram, y_train_unigram, X_test_unigram, y_test_unigram, word_to_index = load_data_8000_unigram(train_data, test_data, 0)"
      ]
    },
    {
      "cell_type": "code",
      "execution_count": null,
      "metadata": {
        "id": "Ncq0BmU01ax6"
      },
      "outputs": [],
      "source": [
        "# bpe\n",
        "X_train_bpe, y_train_bpe, X_test_bpe, y_test_bpe, word_to_index_ = load_data_8000_bpe(train_data, test_data, 1)"
      ]
    },
    {
      "cell_type": "code",
      "execution_count": null,
      "metadata": {
        "colab": {
          "base_uri": "https://localhost:8080/"
        },
        "id": "Grjy1_aY1vQQ",
        "outputId": "3e7beb39-d004-4ff1-e33f-d365cb5a703c"
      },
      "outputs": [
        {
          "name": "stdout",
          "output_type": "stream",
          "text": [
            "(143620, 133)\n",
            "(143620, 110)\n"
          ]
        }
      ],
      "source": [
        "print(X_train_unigram.shape)\n",
        "print(X_train_bpe.shape)"
      ]
    },
    {
      "cell_type": "markdown",
      "metadata": {
        "id": "oOZZg5zc15HZ"
      },
      "source": [
        "## 데이터셋 분리"
      ]
    },
    {
      "cell_type": "code",
      "execution_count": null,
      "metadata": {
        "colab": {
          "base_uri": "https://localhost:8080/"
        },
        "id": "W6E_MHnc13kR",
        "outputId": "dd039606-4cf2-4511-f0fc-044cf1be61e4"
      },
      "outputs": [
        {
          "name": "stdout",
          "output_type": "stream",
          "text": [
            "(40000, 133)\n",
            "(40000,)\n",
            "(103620, 133)\n",
            "(103620,)\n"
          ]
        }
      ],
      "source": [
        "# 8000_unigram\n",
        "# validation set 40000건 분리\n",
        "X_val_unigram = X_train_unigram[:40000]   \n",
        "y_val_unigram = y_train_unigram[:40000]\n",
        "\n",
        "# validation set을 제외한 나머지\n",
        "partial_X_train_unigram = X_train_unigram[40000:]  \n",
        "partial_y_train_unigram = y_train_unigram[40000:]\n",
        "\n",
        "print(X_val_unigram.shape)\n",
        "print(y_val_unigram.shape)\n",
        "print(partial_X_train_unigram.shape)\n",
        "print(partial_y_train_unigram.shape)"
      ]
    },
    {
      "cell_type": "code",
      "execution_count": null,
      "metadata": {
        "colab": {
          "base_uri": "https://localhost:8080/"
        },
        "id": "kPfIKt1p1_WE",
        "outputId": "0f0911ab-0a1c-4588-dd31-64225600f313"
      },
      "outputs": [
        {
          "name": "stdout",
          "output_type": "stream",
          "text": [
            "(40000, 110)\n",
            "(40000,)\n",
            "(103620, 110)\n",
            "(103620,)\n"
          ]
        }
      ],
      "source": [
        "# 8000_bpe\n",
        "# validation set 40000건 분리\n",
        "X_val_bpe = X_train_bpe[:40000]   \n",
        "y_val_bpe = y_train_bpe[:40000]\n",
        "\n",
        "# validation set을 제외한 나머지\n",
        "partial_X_train_bpe = X_train_bpe[40000:]  \n",
        "partial_y_train_bpe = y_train_bpe[40000:]\n",
        "\n",
        "print(X_val_bpe.shape)\n",
        "print(y_val_bpe.shape)\n",
        "print(partial_X_train_bpe.shape)\n",
        "print(partial_y_train_bpe.shape)"
      ]
    },
    {
      "cell_type": "markdown",
      "metadata": {
        "id": "P3txMlXR22pR"
      },
      "source": [
        "# 모델 구성 (LSTM)"
      ]
    },
    {
      "cell_type": "markdown",
      "metadata": {
        "id": "_9K83Wf33F3D"
      },
      "source": [
        "## 8000_unigram"
      ]
    },
    {
      "cell_type": "code",
      "execution_count": null,
      "metadata": {
        "colab": {
          "base_uri": "https://localhost:8080/"
        },
        "id": "C-TV7-oI24Y9",
        "outputId": "f777ff8f-caae-4d6b-87c8-dd3601137cf5"
      },
      "outputs": [
        {
          "name": "stdout",
          "output_type": "stream",
          "text": [
            "Model: \"LSTM_8000_unigram\"\n",
            "_________________________________________________________________\n",
            " Layer (type)                Output Shape              Param #   \n",
            "=================================================================\n",
            " embedding (Embedding)       (None, None, 200)         2000000   \n",
            "                                                                 \n",
            " lstm (LSTM)                 (None, 8)                 6688      \n",
            "                                                                 \n",
            " dense (Dense)               (None, 8)                 72        \n",
            "                                                                 \n",
            " dense_1 (Dense)             (None, 1)                 9         \n",
            "                                                                 \n",
            "=================================================================\n",
            "Total params: 2,006,769\n",
            "Trainable params: 2,006,769\n",
            "Non-trainable params: 0\n",
            "_________________________________________________________________\n"
          ]
        }
      ],
      "source": [
        "vocab_size = 10000    # 어휘 사전의 크기(10,000개의 단어)\n",
        "word_vector_dim = 200  # 워드 벡터의 차원 수 (변경 가능한 파라미터)\n",
        "\n",
        "# LSTM 모델 설계\n",
        "model_1 = keras.Sequential(name=\"LSTM_8000_unigram\")\n",
        "model_1.add(keras.layers.Embedding(vocab_size, word_vector_dim, input_shape=(None,)))\n",
        "model_1.add(keras.layers.LSTM(8))  # LSTM state 벡터의 차원 수\n",
        "model_1.add(keras.layers.Dense(8, activation='relu'))\n",
        "model_1.add(keras.layers.Dense(1, activation='sigmoid'))\n",
        "model_1.summary()"
      ]
    },
    {
      "cell_type": "markdown",
      "metadata": {
        "id": "www2zflf3FfM"
      },
      "source": [
        "## 8000_bpe"
      ]
    },
    {
      "cell_type": "code",
      "execution_count": null,
      "metadata": {
        "colab": {
          "base_uri": "https://localhost:8080/"
        },
        "id": "taVKO6dc27rE",
        "outputId": "e2cb6f66-65ac-4793-b057-141e84772e7e"
      },
      "outputs": [
        {
          "name": "stdout",
          "output_type": "stream",
          "text": [
            "Model: \"LSTM_8000_bpe\"\n",
            "_________________________________________________________________\n",
            " Layer (type)                Output Shape              Param #   \n",
            "=================================================================\n",
            " embedding_1 (Embedding)     (None, None, 200)         1600000   \n",
            "                                                                 \n",
            " lstm_1 (LSTM)               (None, 8)                 6688      \n",
            "                                                                 \n",
            " dense_2 (Dense)             (None, 8)                 72        \n",
            "                                                                 \n",
            " dense_3 (Dense)             (None, 1)                 9         \n",
            "                                                                 \n",
            "=================================================================\n",
            "Total params: 1,606,769\n",
            "Trainable params: 1,606,769\n",
            "Non-trainable params: 0\n",
            "_________________________________________________________________\n"
          ]
        }
      ],
      "source": [
        "vocab_size = 8000\n",
        "word_vector_dim = 200\n",
        "\n",
        "# LSTM\n",
        "model_2 = keras.Sequential(name=\"LSTM_8000_bpe\")\n",
        "model_2.add(keras.layers.Embedding(vocab_size, word_vector_dim, input_shape=(None,)))\n",
        "model_2.add(keras.layers.LSTM(8))\n",
        "model_2.add(keras.layers.Dense(8, activation='relu'))\n",
        "model_2.add(keras.layers.Dense(1, activation='sigmoid')) \n",
        "model_2.summary()"
      ]
    },
    {
      "cell_type": "markdown",
      "metadata": {
        "id": "ucuMIJVW3HL8"
      },
      "source": [
        "# 모델 학습"
      ]
    },
    {
      "cell_type": "markdown",
      "metadata": {
        "id": "-S7V-QgY3FEz"
      },
      "source": [
        "## 8000_unigram"
      ]
    },
    {
      "cell_type": "code",
      "execution_count": 52,
      "metadata": {
        "colab": {
          "base_uri": "https://localhost:8080/"
        },
        "id": "baVER1ry3CJG",
        "outputId": "76e91c6a-ed4b-40ec-bb30-d18075252df8"
      },
      "outputs": [
        {
          "output_type": "stream",
          "name": "stdout",
          "text": [
            "Epoch 1/10\n",
            "203/203 - 7s - loss: 0.0739 - accuracy: 0.9745 - val_loss: 0.8804 - val_accuracy: 0.8192 - 7s/epoch - 35ms/step\n",
            "Epoch 2/10\n",
            "203/203 - 4s - loss: 0.0562 - accuracy: 0.9817 - val_loss: 0.9526 - val_accuracy: 0.8181 - 4s/epoch - 20ms/step\n",
            "Epoch 3/10\n",
            "203/203 - 4s - loss: 0.0512 - accuracy: 0.9835 - val_loss: 1.0035 - val_accuracy: 0.8181 - 4s/epoch - 20ms/step\n",
            "Epoch 4/10\n",
            "203/203 - 4s - loss: 0.0517 - accuracy: 0.9837 - val_loss: 1.0286 - val_accuracy: 0.8148 - 4s/epoch - 19ms/step\n",
            "Epoch 5/10\n",
            "203/203 - 4s - loss: 0.0496 - accuracy: 0.9840 - val_loss: 1.0400 - val_accuracy: 0.8167 - 4s/epoch - 21ms/step\n",
            "Epoch 6/10\n",
            "203/203 - 4s - loss: 0.0441 - accuracy: 0.9865 - val_loss: 1.0807 - val_accuracy: 0.8175 - 4s/epoch - 19ms/step\n",
            "Epoch 7/10\n",
            "203/203 - 4s - loss: 0.0387 - accuracy: 0.9885 - val_loss: 1.1665 - val_accuracy: 0.8157 - 4s/epoch - 19ms/step\n",
            "Epoch 8/10\n",
            "203/203 - 4s - loss: 0.0328 - accuracy: 0.9904 - val_loss: 1.2106 - val_accuracy: 0.8151 - 4s/epoch - 20ms/step\n",
            "Epoch 9/10\n",
            "203/203 - 4s - loss: 0.0351 - accuracy: 0.9895 - val_loss: 1.2307 - val_accuracy: 0.8152 - 4s/epoch - 20ms/step\n",
            "Epoch 10/10\n",
            "203/203 - 4s - loss: 0.0313 - accuracy: 0.9907 - val_loss: 1.2928 - val_accuracy: 0.8160 - 4s/epoch - 19ms/step\n",
            "1513/1513 - 6s - loss: 1.3219 - accuracy: 0.8118 - 6s/epoch - 4ms/step\n",
            "[1.3218938112258911, 0.811837375164032]\n"
          ]
        }
      ],
      "source": [
        "model_1.compile(optimizer='adam',\n",
        "              loss='binary_crossentropy',\n",
        "              metrics=['accuracy'])\n",
        "              \n",
        "epochs=10\n",
        "\n",
        "history_model_1 = model_1.fit(partial_X_train_unigram, partial_y_train_unigram,\n",
        "                          epochs=epochs,\n",
        "                          batch_size=512,\n",
        "                          validation_data=(X_val_unigram, y_val_unigram),\n",
        "                          verbose=2)\n",
        "\n",
        "results_1 = model_1.evaluate(X_test_unigram,  y_test_unigram, verbose=2)\n",
        "print(results_1)"
      ]
    },
    {
      "cell_type": "markdown",
      "metadata": {
        "id": "9b5dn1YF3Em2"
      },
      "source": [
        "## 8000_bpe"
      ]
    },
    {
      "cell_type": "code",
      "execution_count": 51,
      "metadata": {
        "colab": {
          "base_uri": "https://localhost:8080/"
        },
        "id": "LS1cu2n93De-",
        "outputId": "de31f3e9-5ae6-4ed2-d1c3-a1e6093f2464"
      },
      "outputs": [
        {
          "output_type": "stream",
          "name": "stdout",
          "text": [
            "Epoch 1/10\n",
            "203/203 - 6s - loss: 0.0474 - accuracy: 0.9862 - val_loss: 0.9872 - val_accuracy: 0.8222 - 6s/epoch - 28ms/step\n",
            "Epoch 2/10\n",
            "203/203 - 4s - loss: 0.0359 - accuracy: 0.9902 - val_loss: 1.0408 - val_accuracy: 0.8204 - 4s/epoch - 19ms/step\n",
            "Epoch 3/10\n",
            "203/203 - 4s - loss: 0.0323 - accuracy: 0.9915 - val_loss: 1.0913 - val_accuracy: 0.8230 - 4s/epoch - 19ms/step\n",
            "Epoch 4/10\n",
            "203/203 - 4s - loss: 0.0353 - accuracy: 0.9902 - val_loss: 1.1067 - val_accuracy: 0.8227 - 4s/epoch - 18ms/step\n",
            "Epoch 5/10\n",
            "203/203 - 4s - loss: 0.0339 - accuracy: 0.9903 - val_loss: 1.1139 - val_accuracy: 0.8192 - 4s/epoch - 19ms/step\n",
            "Epoch 6/10\n",
            "203/203 - 4s - loss: 0.0282 - accuracy: 0.9922 - val_loss: 1.1598 - val_accuracy: 0.8191 - 4s/epoch - 17ms/step\n",
            "Epoch 7/10\n",
            "203/203 - 4s - loss: 0.0249 - accuracy: 0.9933 - val_loss: 1.2155 - val_accuracy: 0.8207 - 4s/epoch - 18ms/step\n",
            "Epoch 8/10\n",
            "203/203 - 4s - loss: 0.0289 - accuracy: 0.9921 - val_loss: 1.2019 - val_accuracy: 0.8180 - 4s/epoch - 19ms/step\n",
            "Epoch 9/10\n",
            "203/203 - 4s - loss: 0.0293 - accuracy: 0.9919 - val_loss: 1.2404 - val_accuracy: 0.8212 - 4s/epoch - 18ms/step\n",
            "Epoch 10/10\n",
            "203/203 - 4s - loss: 0.0210 - accuracy: 0.9946 - val_loss: 1.2741 - val_accuracy: 0.8196 - 4s/epoch - 18ms/step\n",
            "1513/1513 - 8s - loss: 1.3145 - accuracy: 0.8156 - 8s/epoch - 5ms/step\n",
            "[1.3144501447677612, 0.8155986070632935]\n"
          ]
        }
      ],
      "source": [
        "model_2.compile(optimizer='adam',\n",
        "               loss='binary_crossentropy',\n",
        "               metrics=['accuracy'])\n",
        "              \n",
        "epochs=10\n",
        "\n",
        "history_model_2 = model_2.fit(partial_X_train_bpe, partial_y_train_bpe,\n",
        "                            epochs=epochs,\n",
        "                            batch_size=512,\n",
        "                            validation_data=(X_val_bpe, y_val_bpe),\n",
        "                            verbose=2)\n",
        "\n",
        "results_2 = model_2.evaluate(X_test_bpe,  y_test_bpe, verbose=2)\n",
        "print(results_2)"
      ]
    },
    {
      "cell_type": "markdown",
      "metadata": {
        "id": "c0YAytsY8liS"
      },
      "source": [
        "# KoNLPy 형태소 분석기를 사용한 모델과 성능 비교"
      ]
    },
    {
      "cell_type": "code",
      "execution_count": null,
      "metadata": {
        "id": "HSpvGHIM8ih8"
      },
      "outputs": [],
      "source": [
        "from konlpy.tag import Mecab\n",
        "\n",
        "mecab = Mecab()"
      ]
    },
    {
      "cell_type": "code",
      "execution_count": null,
      "metadata": {
        "id": "1dEBDHKI8xrA"
      },
      "outputs": [],
      "source": [
        "stopwords = ['의','가','이','은','들','는','좀','잘','걍','과','도','를','으로','자','에','와','한','하다']  # 불용어"
      ]
    },
    {
      "cell_type": "code",
      "execution_count": 38,
      "metadata": {
        "id": "Qy-uHBCb81bz"
      },
      "outputs": [],
      "source": [
        "# 데이터 로더 함수 정의\n",
        "from collections import Counter\n",
        "\n",
        "def load_data_mecab(train_data, test_data, num_words=8000):\n",
        "    # train data 전처리\n",
        "    train_data.drop_duplicates(subset=['document'], inplace=True)  # 중복 제거\n",
        "    # train_data['document'] = train_data['document'].str.replace(\"[^ㄱ-ㅎㅏ-ㅣ가-힣 ]\", \"\")  # 특수문자 제거\n",
        "    # train_data['document'].replace('', np.nan, inplace=True)\n",
        "    train_data = train_data.dropna(how = 'any')  # 결측치 제거\n",
        "    \n",
        "    # test data 전처리\n",
        "    test_data.drop_duplicates(subset=['document'], inplace=True)\n",
        "    # test_data['document'] = test_data['document'].str.replace(\"[^ㄱ-ㅎㅏ-ㅣ가-힣 ]\", \"\")\n",
        "    # test_data['document'].replace('', np.nan, inplace=True)\n",
        "    test_data = test_data.dropna(how = 'any')\n",
        "    \n",
        "    X_train = []\n",
        "    for sentence in train_data['document']:\n",
        "        X_train.append([word for word in mecab.morphs(sentence) if not word in stopwords])  # 토큰화 및 불용어 제거\n",
        "        \n",
        "    X_test = []\n",
        "    for sentence in test_data['document']:\n",
        "        X_test.append([word for word in mecab.morphs(sentence) if not word in stopwords])\n",
        "            \n",
        "    # 단어사전 만들기  \n",
        "    words = np.concatenate(X_train).tolist()\n",
        "    counter = Counter(words)\n",
        "    counter = counter.most_common(8000-4)  # 단어 빈도순으로 (8000-4)개 가져오기\n",
        "    vocab = ['<PAD>', '<BOS>', '<UNK>', '<UNUSED>'] + [key for key, _ in counter]  # 앞부분 4개 가져오기\n",
        "    word_to_index = {word:index for index, word in enumerate(vocab)}  # {word:index} 단어사전 생성\n",
        "        \n",
        "    # 리뷰 텍스트를 단어사전 인덱스로 변환\n",
        "    def wordlist_to_indexlist(wordlist):\n",
        "        return [word_to_index[word] if word in word_to_index else word_to_index['<UNK>'] for word in wordlist]\n",
        "\n",
        "    X_train = list(map(wordlist_to_indexlist, X_train))\n",
        "    # print(X_train[0])\n",
        "    X_test = list(map(wordlist_to_indexlist, X_test))\n",
        "    \n",
        "    # X_train, y_train, X_test, y_test, word_to_index 리턴    \n",
        "    return X_train, np.array(list(train_data['label'])), X_test, np.array(list(test_data['label'])), word_to_index"
      ]
    },
    {
      "cell_type": "code",
      "source": [
        "X_train_mecab, y_train_mecab, X_test_mecab, y_test_mecab, word_to_index_mecab = load_data_mecab(train_data, test_data)"
      ],
      "metadata": {
        "id": "c-4o5Ky59v9v"
      },
      "execution_count": 39,
      "outputs": []
    },
    {
      "cell_type": "code",
      "source": [
        "# 모델 구성을 위한 데이터 분석 및 가공\n",
        "\n",
        "total_data_text = list(X_train_mecab) + list(X_test_mecab)\n",
        "# 텍스트데이터 문장길이의 리스트를 생성한 후\n",
        "num_tokens = [len(tokens) for tokens in total_data_text]\n",
        "num_tokens = np.array(num_tokens)\n",
        "\n",
        "# 문장길이의 평균값, 최대값, 표준편차를 계산해 본다. \n",
        "print('문장길이 평균 : ', np.mean(num_tokens))\n",
        "print('문장길이 최대 : ', np.max(num_tokens))\n",
        "print('문장길이 표준편차 : ', np.std(num_tokens))\n",
        "\n",
        "# 예를들어, 최대 길이를 (평균 + 2*표준편차)로 한다면,  \n",
        "max_tokens = np.mean(num_tokens) + 2*np.std(num_tokens)\n",
        "maxlen = int(max_tokens)\n",
        "print('pad_sequences maxlen : ', maxlen)\n",
        "print('전체 문장의 {}%가 maxlen 설정값 이내에 포함됩니다. '.format(np.sum(num_tokens < max_tokens) / len(num_tokens)*100))"
      ],
      "metadata": {
        "colab": {
          "base_uri": "https://localhost:8080/"
        },
        "id": "F5ckvVV5-GF6",
        "outputId": "ca656cd8-60f2-4675-ba34-36a44b26400d"
      },
      "execution_count": 40,
      "outputs": [
        {
          "output_type": "stream",
          "name": "stdout",
          "text": [
            "문장길이 평균 :  13.927888796879312\n",
            "문장길이 최대 :  83\n",
            "문장길이 표준편차 :  11.454835366606218\n",
            "pad_sequences maxlen :  36\n",
            "전체 문장의 93.28573139800739%가 maxlen 설정값 이내에 포함됩니다. \n"
          ]
        }
      ]
    },
    {
      "cell_type": "code",
      "source": [
        "# padding으로 문장 길이 맞추기\n",
        "X_train_mecab = tf.keras.preprocessing.sequence.pad_sequences(X_train_mecab,\n",
        "                                                        value=word_to_index_mecab[\"<PAD>\"],\n",
        "                                                        padding='pre',\n",
        "                                                        maxlen=maxlen)\n",
        "\n",
        "X_test_mecab = tf.keras.preprocessing.sequence.pad_sequences(X_test_mecab,\n",
        "                                                       value=word_to_index_mecab[\"<PAD>\"],\n",
        "                                                       padding='pre',\n",
        "                                                       maxlen=maxlen)\n",
        "\n",
        "print(X_train_mecab.shape)"
      ],
      "metadata": {
        "colab": {
          "base_uri": "https://localhost:8080/"
        },
        "id": "a1LYOcCb_ZoC",
        "outputId": "650feedd-69e6-4f2e-e17f-5e243284f5af"
      },
      "execution_count": 41,
      "outputs": [
        {
          "output_type": "stream",
          "name": "stdout",
          "text": [
            "(143620, 36)\n"
          ]
        }
      ]
    },
    {
      "cell_type": "code",
      "source": [
        "# validation set 40000건 분리\n",
        "X_val_mecab = X_train_mecab[:40000]   \n",
        "y_val_mecab = y_train_mecab[:40000]\n",
        "\n",
        "# validation set을 제외한 나머지\n",
        "partial_X_train_mecab = X_train_mecab[40000:]\n",
        "partial_y_train_mecab = y_train_mecab[40000:]\n",
        "\n",
        "print(X_val_mecab.shape)\n",
        "print(y_val_mecab.shape)\n",
        "print(partial_X_train_mecab.shape)\n",
        "print(partial_y_train_mecab.shape)"
      ],
      "metadata": {
        "colab": {
          "base_uri": "https://localhost:8080/"
        },
        "id": "n7swG1xZ_vja",
        "outputId": "0b15fe24-c6ae-41c9-baa8-507503e2df34"
      },
      "execution_count": 42,
      "outputs": [
        {
          "output_type": "stream",
          "name": "stdout",
          "text": [
            "(40000, 36)\n",
            "(40000,)\n",
            "(103620, 36)\n",
            "(103620,)\n"
          ]
        }
      ]
    },
    {
      "cell_type": "code",
      "source": [
        "# 모델 구성\n",
        "\n",
        "vocab_size = 8000    # 어휘 사전의 크기(10,000개의 단어)\n",
        "word_vector_dim = 200  # 워드 벡터의 차원 수 (변경 가능한 파라미터)\n",
        "\n",
        "# LSTM 모델 설계\n",
        "model_3 = keras.Sequential(name=\"LSTM_8000_mecab\")\n",
        "model_3.add(keras.layers.Embedding(vocab_size, word_vector_dim, input_shape=(None,)))\n",
        "model_3.add(keras.layers.LSTM(8))  # LSTM state 벡터의 차원 수\n",
        "model_3.add(keras.layers.Dense(8, activation='relu'))\n",
        "model_3.add(keras.layers.Dense(1, activation='sigmoid'))\n",
        "\n",
        "model_3.summary()"
      ],
      "metadata": {
        "colab": {
          "base_uri": "https://localhost:8080/"
        },
        "id": "9R7izt7pAEUv",
        "outputId": "01e08487-eaca-4350-af43-772a0abd6005"
      },
      "execution_count": 43,
      "outputs": [
        {
          "output_type": "stream",
          "name": "stdout",
          "text": [
            "Model: \"LSTM_8000_mecab\"\n",
            "_________________________________________________________________\n",
            " Layer (type)                Output Shape              Param #   \n",
            "=================================================================\n",
            " embedding_2 (Embedding)     (None, None, 200)         1600000   \n",
            "                                                                 \n",
            " lstm_2 (LSTM)               (None, 8)                 6688      \n",
            "                                                                 \n",
            " dense_4 (Dense)             (None, 8)                 72        \n",
            "                                                                 \n",
            " dense_5 (Dense)             (None, 1)                 9         \n",
            "                                                                 \n",
            "=================================================================\n",
            "Total params: 1,606,769\n",
            "Trainable params: 1,606,769\n",
            "Non-trainable params: 0\n",
            "_________________________________________________________________\n"
          ]
        }
      ]
    },
    {
      "cell_type": "code",
      "source": [
        "# model 학습\n",
        "model_3.compile(optimizer='adam',\n",
        "             loss='binary_crossentropy',\n",
        "             metrics=['accuracy'])\n",
        "            \n",
        "epochs=10\n",
        "\n",
        "history_model_3 = model_3.fit(partial_X_train_mecab,\n",
        "                   partial_y_train_mecab,\n",
        "                   epochs=epochs,\n",
        "                   batch_size=512,\n",
        "                   validation_data=(X_val_mecab, y_val_mecab),\n",
        "                   verbose=2)\n",
        "\n",
        "results_3 = model_3.evaluate(X_test_mecab,  y_test_mecab, verbose=2)\n",
        "print(results_3)"
      ],
      "metadata": {
        "colab": {
          "base_uri": "https://localhost:8080/"
        },
        "id": "QHw6jQpFAdoP",
        "outputId": "c49f4833-1abf-4abd-ca4f-089c8eb9a8b9"
      },
      "execution_count": 50,
      "outputs": [
        {
          "output_type": "stream",
          "name": "stdout",
          "text": [
            "Epoch 1/10\n",
            "203/203 - 3s - loss: 0.0625 - accuracy: 0.9790 - val_loss: 0.9153 - val_accuracy: 0.8162 - 3s/epoch - 17ms/step\n",
            "Epoch 2/10\n",
            "203/203 - 2s - loss: 0.0564 - accuracy: 0.9816 - val_loss: 0.9268 - val_accuracy: 0.8155 - 2s/epoch - 8ms/step\n",
            "Epoch 3/10\n",
            "203/203 - 2s - loss: 0.0546 - accuracy: 0.9821 - val_loss: 0.9350 - val_accuracy: 0.8134 - 2s/epoch - 10ms/step\n",
            "Epoch 4/10\n",
            "203/203 - 2s - loss: 0.0545 - accuracy: 0.9818 - val_loss: 0.9484 - val_accuracy: 0.8146 - 2s/epoch - 11ms/step\n",
            "Epoch 5/10\n",
            "203/203 - 2s - loss: 0.0506 - accuracy: 0.9835 - val_loss: 1.0233 - val_accuracy: 0.8164 - 2s/epoch - 11ms/step\n",
            "Epoch 6/10\n",
            "203/203 - 2s - loss: 0.0476 - accuracy: 0.9844 - val_loss: 1.0150 - val_accuracy: 0.8145 - 2s/epoch - 10ms/step\n",
            "Epoch 7/10\n",
            "203/203 - 2s - loss: 0.0454 - accuracy: 0.9855 - val_loss: 1.0326 - val_accuracy: 0.8159 - 2s/epoch - 8ms/step\n",
            "Epoch 8/10\n",
            "203/203 - 2s - loss: 0.0492 - accuracy: 0.9835 - val_loss: 1.0401 - val_accuracy: 0.8160 - 2s/epoch - 9ms/step\n",
            "Epoch 9/10\n",
            "203/203 - 2s - loss: 0.0460 - accuracy: 0.9850 - val_loss: 1.0866 - val_accuracy: 0.8122 - 2s/epoch - 10ms/step\n",
            "Epoch 10/10\n",
            "203/203 - 2s - loss: 0.0426 - accuracy: 0.9859 - val_loss: 1.1108 - val_accuracy: 0.8134 - 2s/epoch - 11ms/step\n",
            "1513/1513 - 3s - loss: 1.1188 - accuracy: 0.8100 - 3s/epoch - 2ms/step\n",
            "[1.1187717914581299, 0.8100394606590271]\n"
          ]
        }
      ]
    },
    {
      "cell_type": "code",
      "source": [
        "print(results_1[1], results_2[1], results_3[1])  # 모델의 accuracy가 모두 80% 이상은 나왔지만 미비한 차이로 우열을 가리기가 힘들다..."
      ],
      "metadata": {
        "colab": {
          "base_uri": "https://localhost:8080/"
        },
        "id": "DUoP5c0MCE8E",
        "outputId": "8a40d43a-0093-4414-daa6-431d103bcf00"
      },
      "execution_count": 53,
      "outputs": [
        {
          "output_type": "stream",
          "name": "stdout",
          "text": [
            "0.811837375164032 0.8155986070632935 0.8100394606590271\n"
          ]
        }
      ]
    },
    {
      "cell_type": "markdown",
      "source": [
        "# 모델 학습 비교 시각화"
      ],
      "metadata": {
        "id": "zXrlGE8eAyxa"
      }
    },
    {
      "cell_type": "code",
      "source": [
        "fig, loss_ax = plt.subplots()\n",
        "\n",
        "loss_ax.plot(history_model_1.history['loss'], 'y', label='train loss')\n",
        "loss_ax.plot(history_model_1.history['val_loss'], 'r', label='val loss')\n",
        "loss_ax.set_xlabel('epoch')\n",
        "loss_ax.set_ylabel('loss')\n",
        "\n",
        "loss_ax.plot(history_model_2.history['loss'], 'b', label='train loss')\n",
        "loss_ax.plot(history_model_2.history['val_loss'], 'g', label='val loss')\n",
        "loss_ax.set_xlabel('epoch')\n",
        "loss_ax.set_ylabel('loss')\n",
        "\n",
        "loss_ax.plot(history_model_3.history['loss'], 'b', label='train loss')\n",
        "loss_ax.plot(history_model_3.history['val_loss'], 'g', label='val loss')\n",
        "loss_ax.set_xlabel('epoch')\n",
        "loss_ax.set_ylabel('loss')\n",
        "\n",
        "plt.title('SentencePiece Unigram vs SentencePiece BPE vs Mecab (8000)')\n",
        "plt.show()"
      ],
      "metadata": {
        "colab": {
          "base_uri": "https://localhost:8080/",
          "height": 295
        },
        "id": "KMpBVeEZAxzS",
        "outputId": "6690cf63-778b-4b7b-c085-4e326fa2059a"
      },
      "execution_count": 54,
      "outputs": [
        {
          "output_type": "display_data",
          "data": {
            "text/plain": [
              "<Figure size 432x288 with 1 Axes>"
            ],
            "image/png": "[encoded data removed]"
          },
          "metadata": {
            "needs_background": "light"
          }
        }
      ]
    },
    {
      "cell_type": "markdown",
      "source": [
        "# 회고\n",
        "\n",
        "첫 GoingDeeper NLP에 들어와서 뭔가 LMS 할 때보다 더 잘해보고 싶어서 시간을 써보려 했지만 기본적인 부분만 해봐서 아쉽고 16k, 32k 등의 모델이나 다른 모델의 경우를 좀 더 비교해봐야겠다고 생각했다.<br>\n",
        "시각화도 그렇고 결과가 만족스럽지 않기에 이후에 다시 정리할 때 시도해봐야겠다.<br>\n",
        "아직 코드 작성에 있어 부족한 면이 들고 깊게 하나하나 의미를 따져가고 기초를 정리해보면서 진행해야겠다고 생각이 들었다."
      ],
      "metadata": {
        "id": "V7SeM-xjCQET"
      }
    }
  ],
  "metadata": {
    "accelerator": "GPU",
    "colab": {
      "collapsed_sections": [],
      "name": "Going Deeper(NLP) 02. Make a nice dictionary of words.ipynb",
      "provenance": []
    },
    "kernelspec": {
      "display_name": "Python 3",
      "name": "python3"
    },
    "language_info": {
      "name": "python"
    }
  },
  "nbformat": 4,
  "nbformat_minor": 0
}